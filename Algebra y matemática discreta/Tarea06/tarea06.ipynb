{
 "cells": [
  {
   "cell_type": "code",
   "execution_count": 41,
   "id": "342e646f-0312-47ff-905c-9053886b1982",
   "metadata": {},
   "outputs": [],
   "source": [
    "MBpB = matrix(QQ, [[-2, 2], [-1, 1]])\n",
    "Bp = matrix(QQ, [[6, -5], [5, -4]])\n",
    "B = matrix(QQ, [[-1, -5], [2, 9]])\n",
    "BpB = Bp * B\n",
    "Bi = B.inverse()\n",
    "M = Bi * BpB * Bp"
   ]
  },
  {
   "cell_type": "code",
   "execution_count": 43,
   "id": "e38a0dbb-e132-4728-bd8b-2ec9b586927a",
   "metadata": {},
   "outputs": [
    {
     "data": {
      "text/html": [
       "<html>\\(\\displaystyle \\left(\\begin{array}{rr}\n",
       "-2 & 2 \\\\\n",
       "-1 & 1\n",
       "\\end{array}\\right)\\)</html>"
      ],
      "text/latex": [
       "$\\displaystyle \\left(\\begin{array}{rr}\n",
       "-2 & 2 \\\\\n",
       "-1 & 1\n",
       "\\end{array}\\right)$"
      ],
      "text/plain": [
       "[-2  2]\n",
       "[-1  1]"
      ]
     },
     "metadata": {},
     "output_type": "display_data"
    },
    {
     "data": {
      "text/html": [
       "<html>\\(\\displaystyle \\left(\\begin{array}{rr}\n",
       "6 & -5 \\\\\n",
       "5 & -4\n",
       "\\end{array}\\right)\\)</html>"
      ],
      "text/latex": [
       "$\\displaystyle \\left(\\begin{array}{rr}\n",
       "6 & -5 \\\\\n",
       "5 & -4\n",
       "\\end{array}\\right)$"
      ],
      "text/plain": [
       "[ 6 -5]\n",
       "[ 5 -4]"
      ]
     },
     "metadata": {},
     "output_type": "display_data"
    },
    {
     "data": {
      "text/html": [
       "<html>\\(\\displaystyle \\left(\\begin{array}{rr}\n",
       "-1 & -5 \\\\\n",
       "2 & 9\n",
       "\\end{array}\\right)\\)</html>"
      ],
      "text/latex": [
       "$\\displaystyle \\left(\\begin{array}{rr}\n",
       "-1 & -5 \\\\\n",
       "2 & 9\n",
       "\\end{array}\\right)$"
      ],
      "text/plain": [
       "[-1 -5]\n",
       "[ 2  9]"
      ]
     },
     "metadata": {},
     "output_type": "display_data"
    },
    {
     "data": {
      "text/html": [
       "<html>\\(\\displaystyle \\left(\\begin{array}{rr}\n",
       "-16 & -75 \\\\\n",
       "-13 & -61\n",
       "\\end{array}\\right)\\)</html>"
      ],
      "text/latex": [
       "$\\displaystyle \\left(\\begin{array}{rr}\n",
       "-16 & -75 \\\\\n",
       "-13 & -61\n",
       "\\end{array}\\right)$"
      ],
      "text/plain": [
       "[-16 -75]\n",
       "[-13 -61]"
      ]
     },
     "metadata": {},
     "output_type": "display_data"
    },
    {
     "data": {
      "text/html": [
       "<html>\\(\\displaystyle \\left(\\begin{array}{rr}\n",
       "9 & 5 \\\\\n",
       "-2 & -1\n",
       "\\end{array}\\right)\\)</html>"
      ],
      "text/latex": [
       "$\\displaystyle \\left(\\begin{array}{rr}\n",
       "9 & 5 \\\\\n",
       "-2 & -1\n",
       "\\end{array}\\right)$"
      ],
      "text/plain": [
       "[ 9  5]\n",
       "[-2 -1]"
      ]
     },
     "metadata": {},
     "output_type": "display_data"
    },
    {
     "data": {
      "text/html": [
       "<html>\\(\\displaystyle \\left(\\begin{array}{rr}\n",
       "-6154 & 4965 \\\\\n",
       "1325 & -1069\n",
       "\\end{array}\\right)\\)</html>"
      ],
      "text/latex": [
       "$\\displaystyle \\left(\\begin{array}{rr}\n",
       "-6154 & 4965 \\\\\n",
       "1325 & -1069\n",
       "\\end{array}\\right)$"
      ],
      "text/plain": [
       "[-6154  4965]\n",
       "[ 1325 -1069]"
      ]
     },
     "metadata": {},
     "output_type": "display_data"
    }
   ],
   "source": [
    "show(MBpB)\n",
    "show(Bp)\n",
    "show(B)\n",
    "show(BpB)\n",
    "show(Bi)\n",
    "show(M)"
   ]
  },
  {
   "cell_type": "code",
   "execution_count": null,
   "id": "997e5029-01d5-402a-bde3-9d3e5e73bdd9",
   "metadata": {},
   "outputs": [],
   "source": []
  }
 ],
 "metadata": {
  "kernelspec": {
   "display_name": "SageMath 10.5.beta6",
   "language": "sage",
   "name": "sagemath"
  },
  "language_info": {
   "codemirror_mode": {
    "name": "ipython",
    "version": 3
   },
   "file_extension": ".py",
   "mimetype": "text/x-python",
   "name": "python",
   "nbconvert_exporter": "python",
   "pygments_lexer": "ipython3",
   "version": "3.12.5"
  },
  "widgets": {
   "application/vnd.jupyter.widget-state+json": {
    "state": {},
    "version_major": 2,
    "version_minor": 0
   }
  }
 },
 "nbformat": 4,
 "nbformat_minor": 5
}
