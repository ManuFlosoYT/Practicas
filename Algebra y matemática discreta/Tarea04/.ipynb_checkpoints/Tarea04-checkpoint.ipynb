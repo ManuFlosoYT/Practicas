{
 "cells": [
  {
   "cell_type": "code",
   "execution_count": 54,
   "id": "27d74a68-2a95-44ec-a6da-f2d421dde9a2",
   "metadata": {},
   "outputs": [],
   "source": [
    "B = matrix(QQ,[[4,-1,2],[1,-1,-2],[2,-1,0],[-1,0,-2],[0,0,1]])\n",
    "B1 = block_matrix([[B,1]])\n",
    "B1R = B1.echelon_form()\n",
    "B1R2 = copy(B1R)\n",
    "B1R2.subdivide(3,3)\n",
    "A = B1R2.subdivision(0,1)\n",
    "H = B1R2.subdivision(1,1)\n",
    "Pol.<a1,a2,b1,b2,c1,c2> = QQ[]\n",
    "C = matrix(Pol,[[a1,a2],[b1,b2],[c1,c2]])\n",
    "Sol = A + C*H\n",
    "\n",
    "D = Sol[0,:]\n",
    "E = matrix(QQ, [[1, 1, -2, 0, 0]])\n",
    "a1 = 1\n",
    "a2 = 1\n",
    "F = matrix(Pol,[[a1,a2],[b1,b2],[c1,c2]])\n",
    "Sol2 = A + F*H"
   ]
  },
  {
   "cell_type": "code",
   "execution_count": 55,
   "id": "92d7b35b-c105-401b-90d4-2495a0dd5397",
   "metadata": {},
   "outputs": [
    {
     "data": {
      "text/html": [
       "<html>\\(\\displaystyle \\left(\\begin{array}{rrrrr}\n",
       "a_{1} & a_{2} & -a_{1} - a_{2} & 2 a_{1} - a_{2} - 1 & 2 a_{1} - 2 \\\\\n",
       "b_{1} & b_{2} & -b_{1} - b_{2} - 1 & 2 b_{1} - b_{2} - 2 & 2 b_{1} - 4 \\\\\n",
       "c_{1} & c_{2} & -c_{1} - c_{2} & 2 c_{1} - c_{2} & 2 c_{1} + 1\n",
       "\\end{array}\\right)\\)</html>"
      ],
      "text/latex": [
       "$\\displaystyle \\left(\\begin{array}{rrrrr}\n",
       "a_{1} & a_{2} & -a_{1} - a_{2} & 2 a_{1} - a_{2} - 1 & 2 a_{1} - 2 \\\\\n",
       "b_{1} & b_{2} & -b_{1} - b_{2} - 1 & 2 b_{1} - b_{2} - 2 & 2 b_{1} - 4 \\\\\n",
       "c_{1} & c_{2} & -c_{1} - c_{2} & 2 c_{1} - c_{2} & 2 c_{1} + 1\n",
       "\\end{array}\\right)$"
      ],
      "text/plain": [
       "[           a1            a2      -a1 - a2 2*a1 - a2 - 1      2*a1 - 2]\n",
       "[           b1            b2  -b1 - b2 - 1 2*b1 - b2 - 2      2*b1 - 4]\n",
       "[           c1            c2      -c1 - c2     2*c1 - c2      2*c1 + 1]"
      ]
     },
     "metadata": {},
     "output_type": "display_data"
    },
    {
     "data": {
      "text/html": [
       "<html>\\(\\displaystyle \\left(\\begin{array}{rrrrr}\n",
       "a_{1} & a_{2} & -a_{1} - a_{2} & 2 a_{1} - a_{2} - 1 & 2 a_{1} - 2\n",
       "\\end{array}\\right)\\)</html>"
      ],
      "text/latex": [
       "$\\displaystyle \\left(\\begin{array}{rrrrr}\n",
       "a_{1} & a_{2} & -a_{1} - a_{2} & 2 a_{1} - a_{2} - 1 & 2 a_{1} - 2\n",
       "\\end{array}\\right)$"
      ],
      "text/plain": [
       "[           a1            a2      -a1 - a2 2*a1 - a2 - 1      2*a1 - 2]"
      ]
     },
     "metadata": {},
     "output_type": "display_data"
    },
    {
     "data": {
      "text/html": [
       "<html>\\(\\displaystyle \\left(\\begin{array}{rrrrr}\n",
       "1 & 1 & -2 & 0 & 0\n",
       "\\end{array}\\right)\\)</html>"
      ],
      "text/latex": [
       "$\\displaystyle \\left(\\begin{array}{rrrrr}\n",
       "1 & 1 & -2 & 0 & 0\n",
       "\\end{array}\\right)$"
      ],
      "text/plain": [
       "[ 1  1 -2  0  0]"
      ]
     },
     "metadata": {},
     "output_type": "display_data"
    },
    {
     "data": {
      "text/html": [
       "<html>\\(\\displaystyle \\left(\\begin{array}{rr}\n",
       "1 & 1 \\\\\n",
       "b_{1} & b_{2} \\\\\n",
       "c_{1} & c_{2}\n",
       "\\end{array}\\right)\\)</html>"
      ],
      "text/latex": [
       "$\\displaystyle \\left(\\begin{array}{rr}\n",
       "1 & 1 \\\\\n",
       "b_{1} & b_{2} \\\\\n",
       "c_{1} & c_{2}\n",
       "\\end{array}\\right)$"
      ],
      "text/plain": [
       "[ 1  1]\n",
       "[b1 b2]\n",
       "[c1 c2]"
      ]
     },
     "metadata": {},
     "output_type": "display_data"
    },
    {
     "data": {
      "text/html": [
       "<html>\\(\\displaystyle \\left(\\begin{array}{rrrrr}\n",
       "1 & 1 & -2 & 0 & 0 \\\\\n",
       "b_{1} & b_{2} & -b_{1} - b_{2} - 1 & 2 b_{1} - b_{2} - 2 & 2 b_{1} - 4 \\\\\n",
       "c_{1} & c_{2} & -c_{1} - c_{2} & 2 c_{1} - c_{2} & 2 c_{1} + 1\n",
       "\\end{array}\\right)\\)</html>"
      ],
      "text/latex": [
       "$\\displaystyle \\left(\\begin{array}{rrrrr}\n",
       "1 & 1 & -2 & 0 & 0 \\\\\n",
       "b_{1} & b_{2} & -b_{1} - b_{2} - 1 & 2 b_{1} - b_{2} - 2 & 2 b_{1} - 4 \\\\\n",
       "c_{1} & c_{2} & -c_{1} - c_{2} & 2 c_{1} - c_{2} & 2 c_{1} + 1\n",
       "\\end{array}\\right)$"
      ],
      "text/plain": [
       "[            1             1            -2             0             0]\n",
       "[           b1            b2  -b1 - b2 - 1 2*b1 - b2 - 2      2*b1 - 4]\n",
       "[           c1            c2      -c1 - c2     2*c1 - c2      2*c1 + 1]"
      ]
     },
     "metadata": {},
     "output_type": "display_data"
    }
   ],
   "source": [
    "show(Sol)\n",
    "show(D)\n",
    "show(E)\n",
    "show(F)\n",
    "show(Sol2)"
   ]
  },
  {
   "cell_type": "code",
   "execution_count": null,
   "id": "d651597e-2958-487b-bc56-50a5dcb81819",
   "metadata": {},
   "outputs": [],
   "source": []
  },
  {
   "cell_type": "code",
   "execution_count": null,
   "id": "69588af6-80ac-4db9-9afa-e426298ad2cf",
   "metadata": {},
   "outputs": [],
   "source": []
  }
 ],
 "metadata": {
  "kernelspec": {
   "display_name": "SageMath 10.4",
   "language": "sage",
   "name": "sagemath"
  },
  "language_info": {
   "codemirror_mode": {
    "name": "ipython",
    "version": 3
   },
   "file_extension": ".py",
   "mimetype": "text/x-python",
   "name": "python",
   "nbconvert_exporter": "python",
   "pygments_lexer": "ipython3",
   "version": "3.12.3"
  },
  "widgets": {
   "application/vnd.jupyter.widget-state+json": {
    "state": {},
    "version_major": 2,
    "version_minor": 0
   }
  }
 },
 "nbformat": 4,
 "nbformat_minor": 5
}
