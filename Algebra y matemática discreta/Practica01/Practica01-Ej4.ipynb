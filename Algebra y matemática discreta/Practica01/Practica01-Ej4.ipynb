{
 "cells": [
  {
   "cell_type": "code",
   "execution_count": 1,
   "id": "421eacee-197f-409f-a7f8-87c8c92ba128",
   "metadata": {},
   "outputs": [],
   "source": [
    "A = matrix(QQ, [ [3, 2, -1], [-1, 1, 2], [1, 4, 3] ])"
   ]
  },
  {
   "cell_type": "code",
   "execution_count": 2,
   "id": "1a4ba4a6-76b1-422d-ae73-dce62b6cdd27",
   "metadata": {},
   "outputs": [
    {
     "data": {
      "text/html": [
       "<html>\\(\\displaystyle \\left(\\begin{array}{rrr}\n",
       "3 & 2 & -1 \\\\\n",
       "-1 & 1 & 2 \\\\\n",
       "1 & 4 & 3\n",
       "\\end{array}\\right)\\)</html>"
      ],
      "text/latex": [
       "$\\displaystyle \\left(\\begin{array}{rrr}\n",
       "3 & 2 & -1 \\\\\n",
       "-1 & 1 & 2 \\\\\n",
       "1 & 4 & 3\n",
       "\\end{array}\\right)$"
      ],
      "text/plain": [
       "[ 3  2 -1]\n",
       "[-1  1  2]\n",
       "[ 1  4  3]"
      ]
     },
     "metadata": {},
     "output_type": "display_data"
    }
   ],
   "source": [
    "show(A)"
   ]
  },
  {
   "cell_type": "code",
   "execution_count": 4,
   "id": "7bfe442e-7ce6-4413-9546-a327c481c0c1",
   "metadata": {},
   "outputs": [],
   "source": [
    "P.<a> = QQ[]"
   ]
  },
  {
   "cell_type": "code",
   "execution_count": 10,
   "id": "10f97755-d5f3-45c1-b441-aa0699d9d2e0",
   "metadata": {},
   "outputs": [],
   "source": [
    "B = matrix(P, [[3], [1], [2*a+1]])"
   ]
  },
  {
   "cell_type": "code",
   "execution_count": 11,
   "id": "a67667cb-12cf-43cc-bdf7-7de0ddf6ceb4",
   "metadata": {},
   "outputs": [
    {
     "data": {
      "text/html": [
       "<html>\\(\\displaystyle \\left(\\begin{array}{r}\n",
       "3 \\\\\n",
       "1 \\\\\n",
       "2 a + 1\n",
       "\\end{array}\\right)\\)</html>"
      ],
      "text/latex": [
       "$\\displaystyle \\left(\\begin{array}{r}\n",
       "3 \\\\\n",
       "1 \\\\\n",
       "2 a + 1\n",
       "\\end{array}\\right)$"
      ],
      "text/plain": [
       "[      3]\n",
       "[      1]\n",
       "[2*a + 1]"
      ]
     },
     "metadata": {},
     "output_type": "display_data"
    }
   ],
   "source": [
    "show(B)"
   ]
  },
  {
   "cell_type": "code",
   "execution_count": 13,
   "id": "6e06488b-126d-45f0-88c6-5c1740924cbe",
   "metadata": {},
   "outputs": [],
   "source": [
    "C = block_matrix([ [A, B] ])"
   ]
  },
  {
   "cell_type": "code",
   "execution_count": 14,
   "id": "314d4195-d7ac-4dc3-ab0a-fb233c9b3eb0",
   "metadata": {},
   "outputs": [
    {
     "data": {
      "text/html": [
       "<html>\\(\\displaystyle \\left(\\begin{array}{rrr|r}\n",
       "3 & 2 & -1 & 3 \\\\\n",
       "-1 & 1 & 2 & 1 \\\\\n",
       "1 & 4 & 3 & 2 a + 1\n",
       "\\end{array}\\right)\\)</html>"
      ],
      "text/latex": [
       "$\\displaystyle \\left(\\begin{array}{rrr|r}\n",
       "3 & 2 & -1 & 3 \\\\\n",
       "-1 & 1 & 2 & 1 \\\\\n",
       "1 & 4 & 3 & 2 a + 1\n",
       "\\end{array}\\right)$"
      ],
      "text/plain": [
       "[      3       2      -1|      3]\n",
       "[     -1       1       2|      1]\n",
       "[      1       4       3|2*a + 1]"
      ]
     },
     "metadata": {},
     "output_type": "display_data"
    }
   ],
   "source": [
    "show(C)"
   ]
  },
  {
   "cell_type": "code",
   "execution_count": 15,
   "id": "7945fd77-dca4-44b1-b7c5-845012c87471",
   "metadata": {},
   "outputs": [],
   "source": [
    "C1 = C.echelon_form()"
   ]
  },
  {
   "cell_type": "code",
   "execution_count": 16,
   "id": "8119ea73-ee95-4842-920c-b5c8a31c682e",
   "metadata": {},
   "outputs": [
    {
     "data": {
      "text/html": [
       "<html>\\(\\displaystyle \\left(\\begin{array}{rrr|r}\n",
       "3 & 2 & -1 & 3 \\\\\n",
       "0 & \\frac{5}{3} & \\frac{5}{3} & 2 \\\\\n",
       "0 & 0 & 0 & 2 a - 4\n",
       "\\end{array}\\right)\\)</html>"
      ],
      "text/latex": [
       "$\\displaystyle \\left(\\begin{array}{rrr|r}\n",
       "3 & 2 & -1 & 3 \\\\\n",
       "0 & \\frac{5}{3} & \\frac{5}{3} & 2 \\\\\n",
       "0 & 0 & 0 & 2 a - 4\n",
       "\\end{array}\\right)$"
      ],
      "text/plain": [
       "[      3       2      -1|      3]\n",
       "[      0     5/3     5/3|      2]\n",
       "[      0       0       0|2*a - 4]"
      ]
     },
     "metadata": {},
     "output_type": "display_data"
    }
   ],
   "source": [
    "show(C1)"
   ]
  },
  {
   "cell_type": "code",
   "execution_count": 17,
   "id": "cb3b08c5-ba23-4a91-a75f-c1122a1376f0",
   "metadata": {},
   "outputs": [],
   "source": [
    "C2 = C1(a=2)"
   ]
  },
  {
   "cell_type": "code",
   "execution_count": 18,
   "id": "86f27082-424f-4d86-9d2a-b16ac15f7007",
   "metadata": {},
   "outputs": [
    {
     "data": {
      "text/html": [
       "<html>\\(\\displaystyle \\left(\\begin{array}{rrrr}\n",
       "3 & 2 & -1 & 3 \\\\\n",
       "0 & \\frac{5}{3} & \\frac{5}{3} & 2 \\\\\n",
       "0 & 0 & 0 & 0\n",
       "\\end{array}\\right)\\)</html>"
      ],
      "text/latex": [
       "$\\displaystyle \\left(\\begin{array}{rrrr}\n",
       "3 & 2 & -1 & 3 \\\\\n",
       "0 & \\frac{5}{3} & \\frac{5}{3} & 2 \\\\\n",
       "0 & 0 & 0 & 0\n",
       "\\end{array}\\right)$"
      ],
      "text/plain": [
       "[  3   2  -1   3]\n",
       "[  0 5/3 5/3   2]\n",
       "[  0   0   0   0]"
      ]
     },
     "metadata": {},
     "output_type": "display_data"
    }
   ],
   "source": [
    "show(C2)"
   ]
  },
  {
   "cell_type": "code",
   "execution_count": 19,
   "id": "f49ae584-01bf-4b4d-a19b-4401d28f79e9",
   "metadata": {},
   "outputs": [],
   "source": [
    "C3 = C2.echelon_form()"
   ]
  },
  {
   "cell_type": "code",
   "execution_count": 20,
   "id": "cfd87182-bb2d-4f26-933e-cf31bb294acc",
   "metadata": {},
   "outputs": [
    {
     "data": {
      "text/html": [
       "<html>\\(\\displaystyle \\left(\\begin{array}{rrrr}\n",
       "1 & 0 & -1 & \\frac{1}{5} \\\\\n",
       "0 & 1 & 1 & \\frac{6}{5} \\\\\n",
       "0 & 0 & 0 & 0\n",
       "\\end{array}\\right)\\)</html>"
      ],
      "text/latex": [
       "$\\displaystyle \\left(\\begin{array}{rrrr}\n",
       "1 & 0 & -1 & \\frac{1}{5} \\\\\n",
       "0 & 1 & 1 & \\frac{6}{5} \\\\\n",
       "0 & 0 & 0 & 0\n",
       "\\end{array}\\right)$"
      ],
      "text/plain": [
       "[  1   0  -1 1/5]\n",
       "[  0   1   1 6/5]\n",
       "[  0   0   0   0]"
      ]
     },
     "metadata": {},
     "output_type": "display_data"
    }
   ],
   "source": [
    "show(C3)"
   ]
  },
  {
   "cell_type": "code",
   "execution_count": null,
   "id": "89f8e457-920d-4465-9359-13f25869f852",
   "metadata": {},
   "outputs": [],
   "source": []
  }
 ],
 "metadata": {
  "kernelspec": {
   "display_name": "SageMath 10.4",
   "language": "sage",
   "name": "sagemath"
  },
  "language_info": {
   "codemirror_mode": {
    "name": "ipython",
    "version": 3
   },
   "file_extension": ".py",
   "mimetype": "text/x-python",
   "name": "python",
   "nbconvert_exporter": "python",
   "pygments_lexer": "ipython3",
   "version": "3.12.3"
  }
 },
 "nbformat": 4,
 "nbformat_minor": 5
}
