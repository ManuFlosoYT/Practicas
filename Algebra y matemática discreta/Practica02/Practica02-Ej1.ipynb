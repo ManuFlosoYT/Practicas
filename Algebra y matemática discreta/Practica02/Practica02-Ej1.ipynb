{
 "cells": [
  {
   "cell_type": "code",
   "execution_count": 14,
   "id": "cb490b5d-2c98-4508-a1d9-94b731db4413",
   "metadata": {},
   "outputs": [],
   "source": [
    "A = matrix(Zmod(5),[[0, 3, 1, 0],[1, -1, 3, 3],[0, 3, -1, 3],[3, 1, 1, 1]])\n",
    "B = matrix(Zmod(5),[[0],[3],[4],[3]])\n",
    "AB = block_matrix([[A,B]])\n",
    "R = AB.echelon_form()\n",
    "X = R.subdivision(0, 1)"
   ]
  },
  {
   "cell_type": "code",
   "execution_count": 15,
   "id": "c73332eb-9cb4-4718-af99-64f2e6514ff5",
   "metadata": {},
   "outputs": [
    {
     "data": {
      "text/html": [
       "<html>\\(\\displaystyle \\left(\\begin{array}{rrrr|r}\n",
       "0 & 3 & 1 & 0 & 0 \\\\\n",
       "1 & 4 & 3 & 3 & 3 \\\\\n",
       "0 & 3 & 4 & 3 & 4 \\\\\n",
       "3 & 1 & 1 & 1 & 3\n",
       "\\end{array}\\right)\\)</html>"
      ],
      "text/latex": [
       "$\\displaystyle \\left(\\begin{array}{rrrr|r}\n",
       "0 & 3 & 1 & 0 & 0 \\\\\n",
       "1 & 4 & 3 & 3 & 3 \\\\\n",
       "0 & 3 & 4 & 3 & 4 \\\\\n",
       "3 & 1 & 1 & 1 & 3\n",
       "\\end{array}\\right)$"
      ],
      "text/plain": [
       "[0 3 1 0|0]\n",
       "[1 4 3 3|3]\n",
       "[0 3 4 3|4]\n",
       "[3 1 1 1|3]"
      ]
     },
     "metadata": {},
     "output_type": "display_data"
    },
    {
     "data": {
      "text/html": [
       "<html>\\(\\displaystyle \\left(\\begin{array}{rrrr|r}\n",
       "1 & 0 & 0 & 0 & 1 \\\\\n",
       "0 & 1 & 0 & 0 & 2 \\\\\n",
       "0 & 0 & 1 & 0 & 4 \\\\\n",
       "0 & 0 & 0 & 1 & 4\n",
       "\\end{array}\\right)\\)</html>"
      ],
      "text/latex": [
       "$\\displaystyle \\left(\\begin{array}{rrrr|r}\n",
       "1 & 0 & 0 & 0 & 1 \\\\\n",
       "0 & 1 & 0 & 0 & 2 \\\\\n",
       "0 & 0 & 1 & 0 & 4 \\\\\n",
       "0 & 0 & 0 & 1 & 4\n",
       "\\end{array}\\right)$"
      ],
      "text/plain": [
       "[1 0 0 0|1]\n",
       "[0 1 0 0|2]\n",
       "[0 0 1 0|4]\n",
       "[0 0 0 1|4]"
      ]
     },
     "metadata": {},
     "output_type": "display_data"
    },
    {
     "data": {
      "text/html": [
       "<html>\\(\\displaystyle \\left(\\begin{array}{r}\n",
       "1 \\\\\n",
       "2 \\\\\n",
       "4 \\\\\n",
       "4\n",
       "\\end{array}\\right)\\)</html>"
      ],
      "text/latex": [
       "$\\displaystyle \\left(\\begin{array}{r}\n",
       "1 \\\\\n",
       "2 \\\\\n",
       "4 \\\\\n",
       "4\n",
       "\\end{array}\\right)$"
      ],
      "text/plain": [
       "[1]\n",
       "[2]\n",
       "[4]\n",
       "[4]"
      ]
     },
     "metadata": {},
     "output_type": "display_data"
    }
   ],
   "source": [
    "show(AB)\n",
    "show(R)\n",
    "show(X)"
   ]
  },
  {
   "cell_type": "code",
   "execution_count": null,
   "id": "fb2e4a28-7316-49d5-a838-911a94643295",
   "metadata": {},
   "outputs": [],
   "source": []
  }
 ],
 "metadata": {
  "kernelspec": {
   "display_name": "SageMath 10.4",
   "language": "sage",
   "name": "sagemath"
  },
  "language_info": {
   "codemirror_mode": {
    "name": "ipython",
    "version": 3
   },
   "file_extension": ".py",
   "mimetype": "text/x-python",
   "name": "python",
   "nbconvert_exporter": "python",
   "pygments_lexer": "ipython3",
   "version": "3.12.3"
  }
 },
 "nbformat": 4,
 "nbformat_minor": 5
}
