{
 "cells": [
  {
   "cell_type": "code",
   "execution_count": 8,
   "id": "bd590bbf-05e5-4626-8d60-4a4c8b99795d",
   "metadata": {},
   "outputs": [],
   "source": [
    "A = matrix(Zmod(5),[[0, 3, -1],[-1, 2, 0],[3, 3, 2],[1, 0, -1], [-1, -1, 1], [3, -1, 1]])\n",
    "B = matrix(Zmod(5),[[1],[2],[4],[2], [2], [3]])\n",
    "AB = block_matrix([[A,B]])\n",
    "R = copy(AB.echelon_form())\n",
    "R.subdivide(3,3)"
   ]
  },
  {
   "cell_type": "code",
   "execution_count": 9,
   "id": "517364b7-c5b6-455a-9fa9-6a7138fd5a14",
   "metadata": {},
   "outputs": [
    {
     "data": {
      "text/html": [
       "<html>\\(\\displaystyle \\left(\\begin{array}{rrr|r}\n",
       "1 & 0 & 0 & 0 \\\\\n",
       "0 & 1 & 0 & 0 \\\\\n",
       "0 & 0 & 1 & 0 \\\\\n",
       "\\hline\n",
       " 0 & 0 & 0 & 1 \\\\\n",
       "0 & 0 & 0 & 0 \\\\\n",
       "0 & 0 & 0 & 0\n",
       "\\end{array}\\right)\\)</html>"
      ],
      "text/latex": [
       "$\\displaystyle \\left(\\begin{array}{rrr|r}\n",
       "1 & 0 & 0 & 0 \\\\\n",
       "0 & 1 & 0 & 0 \\\\\n",
       "0 & 0 & 1 & 0 \\\\\n",
       "\\hline\n",
       " 0 & 0 & 0 & 1 \\\\\n",
       "0 & 0 & 0 & 0 \\\\\n",
       "0 & 0 & 0 & 0\n",
       "\\end{array}\\right)$"
      ],
      "text/plain": [
       "[1 0 0|0]\n",
       "[0 1 0|0]\n",
       "[0 0 1|0]\n",
       "[-----+-]\n",
       "[0 0 0|1]\n",
       "[0 0 0|0]\n",
       "[0 0 0|0]"
      ]
     },
     "metadata": {},
     "output_type": "display_data"
    }
   ],
   "source": [
    "show(R)"
   ]
  },
  {
   "cell_type": "code",
   "execution_count": null,
   "id": "dae49567-8d68-4f49-818c-753f79f294c4",
   "metadata": {},
   "outputs": [],
   "source": []
  }
 ],
 "metadata": {
  "kernelspec": {
   "display_name": "SageMath 10.4",
   "language": "sage",
   "name": "sagemath"
  },
  "language_info": {
   "codemirror_mode": {
    "name": "ipython",
    "version": 3
   },
   "file_extension": ".py",
   "mimetype": "text/x-python",
   "name": "python",
   "nbconvert_exporter": "python",
   "pygments_lexer": "ipython3",
   "version": "3.12.3"
  }
 },
 "nbformat": 4,
 "nbformat_minor": 5
}
