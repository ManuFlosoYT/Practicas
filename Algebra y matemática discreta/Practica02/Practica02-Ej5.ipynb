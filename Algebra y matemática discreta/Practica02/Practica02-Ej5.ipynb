{
 "cells": [
  {
   "cell_type": "code",
   "execution_count": 4,
   "id": "deea0ba9-5259-49a8-b64a-48282f905c29",
   "metadata": {},
   "outputs": [],
   "source": [
    "A=matrix(Zmod(7),[[3,1,3,5,2],[0,0,3,3,1],[0,0,0,0,4]])\n",
    "B=column_matrix(Zmod(7),[3,1,12])\n",
    "AB = block_matrix([[A,B]])\n",
    "R = AB.echelon_form()\n",
    "P.<alpha,beta> = Zmod(7)[]\n",
    "M = matrix(P,5,6)\n",
    "M[:3,:] = R\n",
    "M[3,1] = 1\n",
    "M[4,3] = 1\n",
    "M[3,5] = alpha\n",
    "M[4,5] = beta\n",
    "M.subdivide([],5)\n",
    "MR = M.echelon_form()\n",
    "X = MR.subdivision(0,1)"
   ]
  },
  {
   "cell_type": "code",
   "execution_count": 6,
   "id": "277e2723-c8c6-46c0-8f02-8e2dc339d827",
   "metadata": {},
   "outputs": [
    {
     "data": {
      "text/html": [
       "<html>\\(\\displaystyle \\left(\\begin{array}{rrrrr|r}\n",
       "1 & 0 & 0 & 0 & 0 & 2 \\alpha + 4 \\beta + 2 \\\\\n",
       "0 & 1 & 0 & 0 & 0 & \\alpha \\\\\n",
       "0 & 0 & 1 & 0 & 0 & -\\beta + 4 \\\\\n",
       "0 & 0 & 0 & 1 & 0 & \\beta \\\\\n",
       "0 & 0 & 0 & 0 & 1 & 3\n",
       "\\end{array}\\right)\\)</html>"
      ],
      "text/latex": [
       "$\\displaystyle \\left(\\begin{array}{rrrrr|r}\n",
       "1 & 0 & 0 & 0 & 0 & 2 \\alpha + 4 \\beta + 2 \\\\\n",
       "0 & 1 & 0 & 0 & 0 & \\alpha \\\\\n",
       "0 & 0 & 1 & 0 & 0 & -\\beta + 4 \\\\\n",
       "0 & 0 & 0 & 1 & 0 & \\beta \\\\\n",
       "0 & 0 & 0 & 0 & 1 & 3\n",
       "\\end{array}\\right)$"
      ],
      "text/plain": [
       "[                   1                    0                    0                    0                    0|2*alpha + 4*beta + 2]\n",
       "[                   0                    1                    0                    0                    0|               alpha]\n",
       "[                   0                    0                    1                    0                    0|          6*beta + 4]\n",
       "[                   0                    0                    0                    1                    0|                beta]\n",
       "[                   0                    0                    0                    0                    1|                   3]"
      ]
     },
     "metadata": {},
     "output_type": "display_data"
    }
   ],
   "source": [
    "show(MR)"
   ]
  },
  {
   "cell_type": "code",
   "execution_count": null,
   "id": "5d8a6073-2eae-4f31-aa96-38d153bddf18",
   "metadata": {},
   "outputs": [],
   "source": []
  }
 ],
 "metadata": {
  "kernelspec": {
   "display_name": "SageMath 10.4",
   "language": "sage",
   "name": "sagemath"
  },
  "language_info": {
   "codemirror_mode": {
    "name": "ipython",
    "version": 3
   },
   "file_extension": ".py",
   "mimetype": "text/x-python",
   "name": "python",
   "nbconvert_exporter": "python",
   "pygments_lexer": "ipython3",
   "version": "3.12.3"
  }
 },
 "nbformat": 4,
 "nbformat_minor": 5
}
