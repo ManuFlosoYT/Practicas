{
 "cells": [
  {
   "cell_type": "code",
   "execution_count": 56,
   "id": "55fdaec3-1fcb-470d-9be7-6599c46f4f9c",
   "metadata": {},
   "outputs": [],
   "source": [
    "A = column_matrix(ZZ, [15, 125])\n",
    "B = matrix(ZZ, [[1, 0], [0, 1]])\n",
    "AB = block_matrix([ [A, B] ])\n",
    "ABr = AB.echelon_form()\n",
    "\n",
    "C = column_matrix(ZZ, [-25, 64])\n",
    "D = matrix(ZZ, [[1, 0], [0, 1]])\n",
    "CD = block_matrix([ [C, D] ])\n",
    "CDr = CD.echelon_form()\n",
    "CDr2 = CDr[:, 1:3]\n",
    "CDr2t = CDr2.T\n",
    "Pol.<t> = ZZ[]\n",
    "E = column_matrix(Pol,[16 ,t])\n",
    "D = CDr2t * E"
   ]
  },
  {
   "cell_type": "code",
   "execution_count": 57,
   "id": "94e519c4-03fa-49c1-a50c-79431a78a32d",
   "metadata": {
    "scrolled": true
   },
   "outputs": [
    {
     "data": {
      "text/html": [
       "<html>\\(\\displaystyle \\left(\\begin{array}{r|rr}\n",
       "15 & 1 & 0 \\\\\n",
       "125 & 0 & 1\n",
       "\\end{array}\\right)\\)</html>"
      ],
      "text/latex": [
       "$\\displaystyle \\left(\\begin{array}{r|rr}\n",
       "15 & 1 & 0 \\\\\n",
       "125 & 0 & 1\n",
       "\\end{array}\\right)$"
      ],
      "text/plain": [
       "[ 15|  1   0]\n",
       "[125|  0   1]"
      ]
     },
     "metadata": {},
     "output_type": "display_data"
    },
    {
     "data": {
      "text/html": [
       "<html>\\(\\displaystyle \\left(\\begin{array}{rrr}\n",
       "5 & 17 & -2 \\\\\n",
       "0 & 25 & -3\n",
       "\\end{array}\\right)\\)</html>"
      ],
      "text/latex": [
       "$\\displaystyle \\left(\\begin{array}{rrr}\n",
       "5 & 17 & -2 \\\\\n",
       "0 & 25 & -3\n",
       "\\end{array}\\right)$"
      ],
      "text/plain": [
       "[ 5 17 -2]\n",
       "[ 0 25 -3]"
      ]
     },
     "metadata": {},
     "output_type": "display_data"
    },
    {
     "data": {
      "text/html": [
       "<html>\\(\\displaystyle \\left(\\begin{array}{r|rr}\n",
       "-25 & 1 & 0 \\\\\n",
       "64 & 0 & 1\n",
       "\\end{array}\\right)\\)</html>"
      ],
      "text/latex": [
       "$\\displaystyle \\left(\\begin{array}{r|rr}\n",
       "-25 & 1 & 0 \\\\\n",
       "64 & 0 & 1\n",
       "\\end{array}\\right)$"
      ],
      "text/plain": [
       "[-25|  1   0]\n",
       "[ 64|  0   1]"
      ]
     },
     "metadata": {},
     "output_type": "display_data"
    },
    {
     "data": {
      "text/html": [
       "<html>\\(\\displaystyle \\left(\\begin{array}{rrr}\n",
       "1 & 23 & 9 \\\\\n",
       "0 & 64 & 25\n",
       "\\end{array}\\right)\\)</html>"
      ],
      "text/latex": [
       "$\\displaystyle \\left(\\begin{array}{rrr}\n",
       "1 & 23 & 9 \\\\\n",
       "0 & 64 & 25\n",
       "\\end{array}\\right)$"
      ],
      "text/plain": [
       "[ 1 23  9]\n",
       "[ 0 64 25]"
      ]
     },
     "metadata": {},
     "output_type": "display_data"
    },
    {
     "data": {
      "text/html": [
       "<html>\\(\\displaystyle \\left(\\begin{array}{rr}\n",
       "23 & 9 \\\\\n",
       "64 & 25\n",
       "\\end{array}\\right)\\)</html>"
      ],
      "text/latex": [
       "$\\displaystyle \\left(\\begin{array}{rr}\n",
       "23 & 9 \\\\\n",
       "64 & 25\n",
       "\\end{array}\\right)$"
      ],
      "text/plain": [
       "[23  9]\n",
       "[64 25]"
      ]
     },
     "metadata": {},
     "output_type": "display_data"
    },
    {
     "data": {
      "text/html": [
       "<html>\\(\\displaystyle \\left(\\begin{array}{r}\n",
       "16 \\\\\n",
       "t\n",
       "\\end{array}\\right)\\)</html>"
      ],
      "text/latex": [
       "$\\displaystyle \\left(\\begin{array}{r}\n",
       "16 \\\\\n",
       "t\n",
       "\\end{array}\\right)$"
      ],
      "text/plain": [
       "[16]\n",
       "[ t]"
      ]
     },
     "metadata": {},
     "output_type": "display_data"
    },
    {
     "data": {
      "text/html": [
       "<html>\\(\\displaystyle \\left(\\begin{array}{r}\n",
       "64t + 368 \\\\\n",
       "25t + 144\n",
       "\\end{array}\\right)\\)</html>"
      ],
      "text/latex": [
       "$\\displaystyle \\left(\\begin{array}{r}\n",
       "64t + 368 \\\\\n",
       "25t + 144\n",
       "\\end{array}\\right)$"
      ],
      "text/plain": [
       "[64*t + 368]\n",
       "[25*t + 144]"
      ]
     },
     "metadata": {},
     "output_type": "display_data"
    }
   ],
   "source": [
    "show(AB)\n",
    "show(R)\n",
    "show(CD)\n",
    "show(CDr)\n",
    "show(CDr2)\n",
    "show(E)\n",
    "show(D)"
   ]
  },
  {
   "cell_type": "code",
   "execution_count": null,
   "id": "12c9932f-f5ac-4fb7-981b-b12bd9ad8f24",
   "metadata": {},
   "outputs": [],
   "source": []
  }
 ],
 "metadata": {
  "kernelspec": {
   "display_name": "SageMath 10.4",
   "language": "sage",
   "name": "sagemath"
  },
  "language_info": {
   "codemirror_mode": {
    "name": "ipython",
    "version": 3
   },
   "file_extension": ".py",
   "mimetype": "text/x-python",
   "name": "python",
   "nbconvert_exporter": "python",
   "pygments_lexer": "ipython3",
   "version": "3.12.3"
  },
  "widgets": {
   "application/vnd.jupyter.widget-state+json": {
    "state": {},
    "version_major": 2,
    "version_minor": 0
   }
  }
 },
 "nbformat": 4,
 "nbformat_minor": 5
}
