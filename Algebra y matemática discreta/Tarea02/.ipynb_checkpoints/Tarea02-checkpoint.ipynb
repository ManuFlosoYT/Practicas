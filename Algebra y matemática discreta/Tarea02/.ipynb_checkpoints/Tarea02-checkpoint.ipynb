{
 "cells": [
  {
   "cell_type": "code",
   "execution_count": 26,
   "id": "05fba350-e70f-4d03-b968-ce9f9efa5ccf",
   "metadata": {},
   "outputs": [],
   "source": [
    "P.<a,b> = QQ[]\n",
    "A = matrix(QQ, [[2, 0, 2], [1, 2, -5], [-1, -1, 2], [0, 1/2, -3/2]])\n",
    "B = matrix(P, [[b, -2, -4], [-a, 9, 12], [a, 2*b, a + 3*b], [0, 5/2, 7/2]])\n",
    "AB = block_matrix([ [A, B] ])\n",
    "R = AB.echelon_form()\n",
    "R1 = R(a = 1, b = -2)\n",
    "R1.subdivide(2, 3)\n",
    "R2 = R1[:2, :]\n",
    "R2.subdivide([], 3)\n",
    "P.<alpha1, alpha2, alpha3> = QQ[]\n",
    "M = matrix(P, 3, 6)\n",
    "M[:2, :] = R2\n",
    "M[2, 2] = 1\n",
    "M[2, 3] = alpha1\n",
    "M[2, 4] = alpha2\n",
    "M[2, 5] = alpha3\n",
    "M.subdivide([], 3)\n",
    "MR = M.echelon_form()\n",
    "X = MR.subdivision(0, 1)"
   ]
  },
  {
   "cell_type": "code",
   "execution_count": 27,
   "id": "339fbfde-381a-4904-b499-fc2d7c4e80a3",
   "metadata": {},
   "outputs": [
    {
     "data": {
      "text/html": [
       "<html>\\(\\displaystyle \\left(\\begin{array}{rrr}\n",
       "-\\alpha_{1} - 1 & -\\alpha_{2} - 1 & -\\alpha_{3} - 2 \\\\\n",
       "3 \\alpha_{1} & 3 \\alpha_{2} + 5 & 3 \\alpha_{3} + 7 \\\\\n",
       "\\alpha_{1} & \\alpha_{2} & \\alpha_{3}\n",
       "\\end{array}\\right)\\)</html>"
      ],
      "text/latex": [
       "$\\displaystyle \\left(\\begin{array}{rrr}\n",
       "-\\alpha_{1} - 1 & -\\alpha_{2} - 1 & -\\alpha_{3} - 2 \\\\\n",
       "3 \\alpha_{1} & 3 \\alpha_{2} + 5 & 3 \\alpha_{3} + 7 \\\\\n",
       "\\alpha_{1} & \\alpha_{2} & \\alpha_{3}\n",
       "\\end{array}\\right)$"
      ],
      "text/plain": [
       "[ -alpha1 - 1  -alpha2 - 1  -alpha3 - 2]\n",
       "[    3*alpha1 3*alpha2 + 5 3*alpha3 + 7]\n",
       "[      alpha1       alpha2       alpha3]"
      ]
     },
     "metadata": {},
     "output_type": "display_data"
    }
   ],
   "source": [
    "show(X)"
   ]
  },
  {
   "cell_type": "code",
   "execution_count": null,
   "id": "75906cbc-6cb0-4bb6-9883-e9767c5553e7",
   "metadata": {},
   "outputs": [],
   "source": []
  }
 ],
 "metadata": {
  "kernelspec": {
   "display_name": "SageMath 10.4",
   "language": "sage",
   "name": "sagemath"
  },
  "language_info": {
   "codemirror_mode": {
    "name": "ipython",
    "version": 3
   },
   "file_extension": ".py",
   "mimetype": "text/x-python",
   "name": "python",
   "nbconvert_exporter": "python",
   "pygments_lexer": "ipython3",
   "version": "3.12.3"
  }
 },
 "nbformat": 4,
 "nbformat_minor": 5
}
