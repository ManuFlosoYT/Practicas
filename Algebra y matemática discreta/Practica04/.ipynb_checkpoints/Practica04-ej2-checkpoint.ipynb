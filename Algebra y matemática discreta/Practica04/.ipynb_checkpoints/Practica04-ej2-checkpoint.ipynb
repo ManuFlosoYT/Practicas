{
 "cells": [
  {
   "cell_type": "code",
   "execution_count": 1,
   "id": "310a8300-bdf5-4d0d-979c-896aa97039db",
   "metadata": {},
   "outputs": [],
   "source": [
    "A = matrix(Zmod(5),[[4,1,0,0,2,3,3],\n",
    "[1,0,4,4,2,2,2],\n",
    "[3,3,3,4,1,0,4],\n",
    "[1,2,2,2,0,2,2],\n",
    "[1,3,4,3,2,0,3]])\n",
    "B = matrix(Zmod(5),[[0,2,3,3,1],\n",
    "[0,0,4,3,0],\n",
    "[4,0,4,1,0],\n",
    "[2,3,1,0,4]])\n",
    "C = matrix(Zmod(7),[[4,4,6,5],\n",
    "[5,6,0,6],\n",
    "[3,6,6,5],\n",
    "[1,6,4,2],\n",
    "[5,4,6,3]])"
   ]
  },
  {
   "cell_type": "code",
   "execution_count": 2,
   "id": "28827d29-28b4-4051-8865-0e8bf2c6daf7",
   "metadata": {},
   "outputs": [],
   "source": [
    "AR = A.echelon_form()\n",
    "BR = B.echelon_form()\n",
    "CR = C.echelon_form()"
   ]
  },
  {
   "cell_type": "code",
   "execution_count": 3,
   "id": "2809a925-5f2c-42fa-b582-74c8631f49fc",
   "metadata": {},
   "outputs": [
    {
     "data": {
      "text/html": [
       "<html>\\(\\displaystyle \\left(\\begin{array}{rrrrrrr}\n",
       "1 & 0 & 0 & 0 & 0 & 3 & 4 \\\\\n",
       "0 & 1 & 0 & 0 & 2 & 1 & 2 \\\\\n",
       "0 & 0 & 1 & 0 & 2 & 1 & 2 \\\\\n",
       "0 & 0 & 0 & 1 & 1 & 0 & 0 \\\\\n",
       "0 & 0 & 0 & 0 & 0 & 0 & 0\n",
       "\\end{array}\\right) \\left(\\begin{array}{rrrrr}\n",
       "1 & 0 & 0 & 0 & 0 \\\\\n",
       "0 & 1 & 0 & 0 & 3 \\\\\n",
       "0 & 0 & 1 & 0 & 0 \\\\\n",
       "0 & 0 & 0 & 1 & 0\n",
       "\\end{array}\\right) \\left(\\begin{array}{rrrr}\n",
       "1 & 0 & 0 & 0 \\\\\n",
       "0 & 1 & 0 & 0 \\\\\n",
       "0 & 0 & 1 & 0 \\\\\n",
       "0 & 0 & 0 & 1 \\\\\n",
       "0 & 0 & 0 & 0\n",
       "\\end{array}\\right)\\)</html>"
      ],
      "text/latex": [
       "$\\displaystyle \\left(\\begin{array}{rrrrrrr}\n",
       "1 & 0 & 0 & 0 & 0 & 3 & 4 \\\\\n",
       "0 & 1 & 0 & 0 & 2 & 1 & 2 \\\\\n",
       "0 & 0 & 1 & 0 & 2 & 1 & 2 \\\\\n",
       "0 & 0 & 0 & 1 & 1 & 0 & 0 \\\\\n",
       "0 & 0 & 0 & 0 & 0 & 0 & 0\n",
       "\\end{array}\\right) \\left(\\begin{array}{rrrrr}\n",
       "1 & 0 & 0 & 0 & 0 \\\\\n",
       "0 & 1 & 0 & 0 & 3 \\\\\n",
       "0 & 0 & 1 & 0 & 0 \\\\\n",
       "0 & 0 & 0 & 1 & 0\n",
       "\\end{array}\\right) \\left(\\begin{array}{rrrr}\n",
       "1 & 0 & 0 & 0 \\\\\n",
       "0 & 1 & 0 & 0 \\\\\n",
       "0 & 0 & 1 & 0 \\\\\n",
       "0 & 0 & 0 & 1 \\\\\n",
       "0 & 0 & 0 & 0\n",
       "\\end{array}\\right)$"
      ],
      "text/plain": [
       "[1 0 0 0 0 3 4]\n",
       "[0 1 0 0 2 1 2]\n",
       "[0 0 1 0 2 1 2]\n",
       "[0 0 0 1 1 0 0]\n",
       "[0 0 0 0 0 0 0] [1 0 0 0 0]\n",
       "[0 1 0 0 3]\n",
       "[0 0 1 0 0]\n",
       "[0 0 0 1 0] [1 0 0 0]\n",
       "[0 1 0 0]\n",
       "[0 0 1 0]\n",
       "[0 0 0 1]\n",
       "[0 0 0 0]"
      ]
     },
     "metadata": {},
     "output_type": "display_data"
    }
   ],
   "source": [
    "show(AR, BR, CR)"
   ]
  },
  {
   "cell_type": "code",
   "execution_count": null,
   "id": "348a4035-c14d-4af2-9e68-f1d7a845a3d0",
   "metadata": {},
   "outputs": [],
   "source": []
  }
 ],
 "metadata": {
  "kernelspec": {
   "display_name": "SageMath 10.4",
   "language": "sage",
   "name": "sagemath"
  },
  "language_info": {
   "codemirror_mode": {
    "name": "ipython",
    "version": 3
   },
   "file_extension": ".py",
   "mimetype": "text/x-python",
   "name": "python",
   "nbconvert_exporter": "python",
   "pygments_lexer": "ipython3",
   "version": "3.12.3"
  },
  "widgets": {
   "application/vnd.jupyter.widget-state+json": {
    "state": {},
    "version_major": 2,
    "version_minor": 0
   }
  }
 },
 "nbformat": 4,
 "nbformat_minor": 5
}
