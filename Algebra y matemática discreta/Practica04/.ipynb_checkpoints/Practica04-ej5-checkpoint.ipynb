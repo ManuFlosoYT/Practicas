{
 "cells": [
  {
   "cell_type": "code",
   "execution_count": 1,
   "id": "c6768443-f719-47c0-a460-4db405554c52",
   "metadata": {},
   "outputs": [],
   "source": [
    "A = matrix(Zmod(5),[[4,2,4,0,1],\n",
    "[1,1,0,4,4],\n",
    "[3,0,1,2,3],\n",
    "[1,2,0,1,3],\n",
    "[2,4,1,2,2]])\n",
    "B = matrix(Zmod(5),[[3,0,2,1,3],\n",
    "[2,0,3,2,1],\n",
    "[1,0,1,4,2],\n",
    "[4,3,2,4,3],\n",
    "[0,2,4,2,0]])\n",
    "C = matrix(Zmod(7),[[6,2,0,5,5],\n",
    "[2,2,4,2,0],\n",
    "[1,3,2,5,1]])\n",
    "D = matrix(Zmod(7),[[1,1,4,0,1],\n",
    "[5,4,2,3,1],\n",
    "[5,2,1,2,0]])\n",
    "E = matrix(QQ,[[-2,0,1],\n",
    "[-1,1/2,0],\n",
    "[0,1,-1],\n",
    "[-2,2,2],\n",
    "[-1,0,1]])\n",
    "F = matrix(QQ,[[-2,0,-1,2],\n",
    "[-2,-2,0,-1],\n",
    "[0,-2,1,0],\n",
    "[-3,-1,-1,-2],\n",
    "[-1,-1,0,0],\n",
    "[0,-1,1/2,-1]])"
   ]
  },
  {
   "cell_type": "code",
   "execution_count": null,
   "id": "449c8fe5-3a89-4b7e-a489-fed937c903a8",
   "metadata": {},
   "outputs": [],
   "source": []
  }
 ],
 "metadata": {
  "kernelspec": {
   "display_name": "SageMath 10.4",
   "language": "sage",
   "name": "sagemath"
  },
  "language_info": {
   "codemirror_mode": {
    "name": "ipython",
    "version": 3
   },
   "file_extension": ".py",
   "mimetype": "text/x-python",
   "name": "python",
   "nbconvert_exporter": "python",
   "pygments_lexer": "ipython3",
   "version": "3.12.3"
  },
  "widgets": {
   "application/vnd.jupyter.widget-state+json": {
    "state": {},
    "version_major": 2,
    "version_minor": 0
   }
  }
 },
 "nbformat": 4,
 "nbformat_minor": 5
}
