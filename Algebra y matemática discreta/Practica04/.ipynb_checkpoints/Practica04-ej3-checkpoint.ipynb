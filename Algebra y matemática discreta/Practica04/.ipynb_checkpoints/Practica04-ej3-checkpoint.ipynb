{
 "cells": [
  {
   "cell_type": "code",
   "execution_count": 3,
   "id": "0de977d8-5cd2-4b11-94ab-f195cf991d56",
   "metadata": {},
   "outputs": [],
   "source": [
    "A = matrix(Zmod(7),[[0,5,5],\n",
    "[1,5,2],\n",
    "[4,1,3],\n",
    "[3,2,3],\n",
    "[1,6,5]])\n",
    "B = matrix(Zmod(7),[[4,6,6,5,0],\n",
    "[6,6,1,6,5],\n",
    "[1,5,5,2,4],\n",
    "[0,2,0,0,4],\n",
    "[1,4,2,6,2]])"
   ]
  },
  {
   "cell_type": "code",
   "execution_count": 4,
   "id": "5c4edb57-44d8-43e5-8d58-347a67c518ec",
   "metadata": {},
   "outputs": [],
   "source": [
    "AR = A.echelon_form()\n",
    "BR = B.echelon_form()\n",
    "AB = block_matrix([[A,B]])\n",
    "ABR = AB.echelon_form()"
   ]
  },
  {
   "cell_type": "code",
   "execution_count": 5,
   "id": "7edf4919-5a59-4eb8-a1d5-47d561b92adc",
   "metadata": {},
   "outputs": [
    {
     "data": {
      "text/html": [
       "<html>\\(\\displaystyle \\left(\\begin{array}{rrr}\n",
       "1 & 0 & 0 \\\\\n",
       "0 & 1 & 0 \\\\\n",
       "0 & 0 & 1 \\\\\n",
       "0 & 0 & 0 \\\\\n",
       "0 & 0 & 0\n",
       "\\end{array}\\right) \\left(\\begin{array}{rrrrr}\n",
       "1 & 0 & 0 & 0 & 0 \\\\\n",
       "0 & 1 & 0 & 0 & 0 \\\\\n",
       "0 & 0 & 1 & 0 & 0 \\\\\n",
       "0 & 0 & 0 & 1 & 0 \\\\\n",
       "0 & 0 & 0 & 0 & 1\n",
       "\\end{array}\\right) \\left(\\begin{array}{rrr|rrrrr}\n",
       "0 & 5 & 5 & 4 & 6 & 6 & 5 & 0 \\\\\n",
       "1 & 5 & 2 & 6 & 6 & 1 & 6 & 5 \\\\\n",
       "4 & 1 & 3 & 1 & 5 & 5 & 2 & 4 \\\\\n",
       "3 & 2 & 3 & 0 & 2 & 0 & 0 & 4 \\\\\n",
       "1 & 6 & 5 & 1 & 4 & 2 & 6 & 2\n",
       "\\end{array}\\right) \\left(\\begin{array}{rrr|rrrrr}\n",
       "1 & 0 & 0 & 0 & 1 & 0 & 6 & 2 \\\\\n",
       "0 & 1 & 0 & 0 & 2 & 0 & 2 & 2 \\\\\n",
       "0 & 0 & 1 & 0 & 3 & 0 & 2 & 5 \\\\\n",
       "0 & 0 & 0 & 1 & 4 & 0 & 2 & 6 \\\\\n",
       "0 & 0 & 0 & 0 & 0 & 1 & 2 & 3\n",
       "\\end{array}\\right)\\)</html>"
      ],
      "text/latex": [
       "$\\displaystyle \\left(\\begin{array}{rrr}\n",
       "1 & 0 & 0 \\\\\n",
       "0 & 1 & 0 \\\\\n",
       "0 & 0 & 1 \\\\\n",
       "0 & 0 & 0 \\\\\n",
       "0 & 0 & 0\n",
       "\\end{array}\\right) \\left(\\begin{array}{rrrrr}\n",
       "1 & 0 & 0 & 0 & 0 \\\\\n",
       "0 & 1 & 0 & 0 & 0 \\\\\n",
       "0 & 0 & 1 & 0 & 0 \\\\\n",
       "0 & 0 & 0 & 1 & 0 \\\\\n",
       "0 & 0 & 0 & 0 & 1\n",
       "\\end{array}\\right) \\left(\\begin{array}{rrr|rrrrr}\n",
       "0 & 5 & 5 & 4 & 6 & 6 & 5 & 0 \\\\\n",
       "1 & 5 & 2 & 6 & 6 & 1 & 6 & 5 \\\\\n",
       "4 & 1 & 3 & 1 & 5 & 5 & 2 & 4 \\\\\n",
       "3 & 2 & 3 & 0 & 2 & 0 & 0 & 4 \\\\\n",
       "1 & 6 & 5 & 1 & 4 & 2 & 6 & 2\n",
       "\\end{array}\\right) \\left(\\begin{array}{rrr|rrrrr}\n",
       "1 & 0 & 0 & 0 & 1 & 0 & 6 & 2 \\\\\n",
       "0 & 1 & 0 & 0 & 2 & 0 & 2 & 2 \\\\\n",
       "0 & 0 & 1 & 0 & 3 & 0 & 2 & 5 \\\\\n",
       "0 & 0 & 0 & 1 & 4 & 0 & 2 & 6 \\\\\n",
       "0 & 0 & 0 & 0 & 0 & 1 & 2 & 3\n",
       "\\end{array}\\right)$"
      ],
      "text/plain": [
       "[1 0 0]\n",
       "[0 1 0]\n",
       "[0 0 1]\n",
       "[0 0 0]\n",
       "[0 0 0] [1 0 0 0 0]\n",
       "[0 1 0 0 0]\n",
       "[0 0 1 0 0]\n",
       "[0 0 0 1 0]\n",
       "[0 0 0 0 1] [0 5 5|4 6 6 5 0]\n",
       "[1 5 2|6 6 1 6 5]\n",
       "[4 1 3|1 5 5 2 4]\n",
       "[3 2 3|0 2 0 0 4]\n",
       "[1 6 5|1 4 2 6 2] [1 0 0|0 1 0 6 2]\n",
       "[0 1 0|0 2 0 2 2]\n",
       "[0 0 1|0 3 0 2 5]\n",
       "[0 0 0|1 4 0 2 6]\n",
       "[0 0 0|0 0 1 2 3]"
      ]
     },
     "metadata": {},
     "output_type": "display_data"
    }
   ],
   "source": [
    "show(AR, BR, AB, ABR)"
   ]
  },
  {
   "cell_type": "code",
   "execution_count": null,
   "id": "327c9103-e08a-4ac7-a51e-6000a28f5c52",
   "metadata": {},
   "outputs": [],
   "source": []
  }
 ],
 "metadata": {
  "kernelspec": {
   "display_name": "SageMath 10.4",
   "language": "sage",
   "name": "sagemath"
  },
  "language_info": {
   "codemirror_mode": {
    "name": "ipython",
    "version": 3
   },
   "file_extension": ".py",
   "mimetype": "text/x-python",
   "name": "python",
   "nbconvert_exporter": "python",
   "pygments_lexer": "ipython3",
   "version": "3.12.3"
  },
  "widgets": {
   "application/vnd.jupyter.widget-state+json": {
    "state": {},
    "version_major": 2,
    "version_minor": 0
   }
  }
 },
 "nbformat": 4,
 "nbformat_minor": 5
}
