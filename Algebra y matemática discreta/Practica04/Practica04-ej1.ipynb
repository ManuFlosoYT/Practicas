{
 "cells": [
  {
   "cell_type": "code",
   "execution_count": 9,
   "id": "cd168f19-a963-4f4e-af1a-f258cff0d3c2",
   "metadata": {
    "editable": true,
    "slideshow": {
     "slide_type": ""
    },
    "tags": []
   },
   "outputs": [],
   "source": [
    "A = matrix(Zmod(5),[[2,2,3,1,2],[0,3,1,1,1],[2,3,0,4,1],[0,4,1,4,2]])\n",
    "AR = A.echelon_form()\n",
    "\n",
    "B = matrix(Zmod(5),[[4,1,0,2],[3,2,4,0],[4,0,1,0],[1,0,3,1],[2,1,3,0]])\n",
    "BR = B.echelon_form()\n",
    "\n",
    "C = matrix(Zmod(7),[[5,1,5,2,1],[3,3,4,4,4],[2,4,5,4,5],[2,0,0,0,5],[3,0,3,5,1]])\n",
    "CR = C.echelon_form()"
   ]
  },
  {
   "cell_type": "code",
   "execution_count": 10,
   "id": "a72abd3d-0ddf-4a65-a1a1-ec78ec9d821c",
   "metadata": {},
   "outputs": [
    {
     "data": {
      "text/html": [
       "<html>\\(\\displaystyle \\left(\\begin{array}{rrrrr}\n",
       "1 & 0 & 0 & 0 & 4 \\\\\n",
       "0 & 1 & 0 & 0 & 0 \\\\\n",
       "0 & 0 & 1 & 0 & 4 \\\\\n",
       "0 & 0 & 0 & 1 & 2\n",
       "\\end{array}\\right) \\left(\\begin{array}{rrrr}\n",
       "1 & 0 & 0 & 0 \\\\\n",
       "0 & 1 & 0 & 0 \\\\\n",
       "0 & 0 & 1 & 0 \\\\\n",
       "0 & 0 & 0 & 1 \\\\\n",
       "0 & 0 & 0 & 0\n",
       "\\end{array}\\right) \\left(\\begin{array}{rrrrr}\n",
       "1 & 0 & 0 & 0 & 0 \\\\\n",
       "0 & 1 & 0 & 3 & 0 \\\\\n",
       "0 & 0 & 1 & 4 & 0 \\\\\n",
       "0 & 0 & 0 & 0 & 1 \\\\\n",
       "0 & 0 & 0 & 0 & 0\n",
       "\\end{array}\\right)\\)</html>"
      ],
      "text/latex": [
       "$\\displaystyle \\left(\\begin{array}{rrrrr}\n",
       "1 & 0 & 0 & 0 & 4 \\\\\n",
       "0 & 1 & 0 & 0 & 0 \\\\\n",
       "0 & 0 & 1 & 0 & 4 \\\\\n",
       "0 & 0 & 0 & 1 & 2\n",
       "\\end{array}\\right) \\left(\\begin{array}{rrrr}\n",
       "1 & 0 & 0 & 0 \\\\\n",
       "0 & 1 & 0 & 0 \\\\\n",
       "0 & 0 & 1 & 0 \\\\\n",
       "0 & 0 & 0 & 1 \\\\\n",
       "0 & 0 & 0 & 0\n",
       "\\end{array}\\right) \\left(\\begin{array}{rrrrr}\n",
       "1 & 0 & 0 & 0 & 0 \\\\\n",
       "0 & 1 & 0 & 3 & 0 \\\\\n",
       "0 & 0 & 1 & 4 & 0 \\\\\n",
       "0 & 0 & 0 & 0 & 1 \\\\\n",
       "0 & 0 & 0 & 0 & 0\n",
       "\\end{array}\\right)$"
      ],
      "text/plain": [
       "[1 0 0 0 4]\n",
       "[0 1 0 0 0]\n",
       "[0 0 1 0 4]\n",
       "[0 0 0 1 2] [1 0 0 0]\n",
       "[0 1 0 0]\n",
       "[0 0 1 0]\n",
       "[0 0 0 1]\n",
       "[0 0 0 0] [1 0 0 0 0]\n",
       "[0 1 0 3 0]\n",
       "[0 0 1 4 0]\n",
       "[0 0 0 0 1]\n",
       "[0 0 0 0 0]"
      ]
     },
     "metadata": {},
     "output_type": "display_data"
    }
   ],
   "source": [
    "show(AR, BR, CR)"
   ]
  },
  {
   "cell_type": "code",
   "execution_count": null,
   "id": "644f5a55-92f8-4bf3-9ed6-04e4cda0fff8",
   "metadata": {},
   "outputs": [],
   "source": []
  },
  {
   "cell_type": "code",
   "execution_count": null,
   "id": "36f1dc66-85d6-4b44-9617-a60aba22e7aa",
   "metadata": {},
   "outputs": [],
   "source": []
  }
 ],
 "metadata": {
  "kernelspec": {
   "display_name": "SageMath 10.4",
   "language": "sage",
   "name": "sagemath"
  },
  "language_info": {
   "codemirror_mode": {
    "name": "ipython",
    "version": 3
   },
   "file_extension": ".py",
   "mimetype": "text/x-python",
   "name": "python",
   "nbconvert_exporter": "python",
   "pygments_lexer": "ipython3",
   "version": "3.12.3"
  },
  "widgets": {
   "application/vnd.jupyter.widget-state+json": {
    "state": {},
    "version_major": 2,
    "version_minor": 0
   }
  }
 },
 "nbformat": 4,
 "nbformat_minor": 5
}
