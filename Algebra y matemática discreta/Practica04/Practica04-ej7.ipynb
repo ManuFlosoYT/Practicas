{
 "cells": [
  {
   "cell_type": "code",
   "execution_count": 2,
   "id": "9be76048-ddb2-42c0-828f-d362c6b96c36",
   "metadata": {},
   "outputs": [],
   "source": [
    "M1 = matrix(Zmod(5),[[0,1,4,0,0,3],\n",
    "[3,3,3,4,4,3],\n",
    "[3,4,3,3,4,3],\n",
    "[1,4,3,3,2,0]])\n",
    "M2 = matrix(Zmod(5),[[0,0,2,1,1,1],\n",
    "[2,3,3,1,4,2],\n",
    "[1,4,4,1,4,4],\n",
    "[3,2,2,2,3,1]])\n",
    "M3 = matrix(Zmod(5),[[2,3,4],\n",
    "[2,0,3],\n",
    "[1,4,1],\n",
    "[1,3,4],\n",
    "[0,4,1],\n",
    "[4,2,1]])\n",
    "M4 = matrix(Zmod(5),[[4,1,3],\n",
    "[3,1,2],\n",
    "[0,1,4],\n",
    "[3,0,3],\n",
    "[3,0,3],\n",
    "[3,1,2]])\n",
    "M5 = matrix(Zmod(5),[[1,1,3,0],\n",
    "[4,4,2,3],\n",
    "[2,4,1,2],\n",
    "[1,3,3,0]])\n",
    "M6 = matrix(Zmod(5),[[3,2,3,2],\n",
    "[4,1,0,1],\n",
    "[0,2,0,4],\n",
    "[4,0,0,3]])"
   ]
  },
  {
   "cell_type": "code",
   "execution_count": null,
   "id": "997aac67-7777-4949-9454-98c62b29f128",
   "metadata": {},
   "outputs": [],
   "source": []
  }
 ],
 "metadata": {
  "kernelspec": {
   "display_name": "SageMath 10.4",
   "language": "sage",
   "name": "sagemath"
  },
  "language_info": {
   "codemirror_mode": {
    "name": "ipython",
    "version": 3
   },
   "file_extension": ".py",
   "mimetype": "text/x-python",
   "name": "python",
   "nbconvert_exporter": "python",
   "pygments_lexer": "ipython3",
   "version": "3.12.3"
  },
  "widgets": {
   "application/vnd.jupyter.widget-state+json": {
    "state": {},
    "version_major": 2,
    "version_minor": 0
   }
  }
 },
 "nbformat": 4,
 "nbformat_minor": 5
}
