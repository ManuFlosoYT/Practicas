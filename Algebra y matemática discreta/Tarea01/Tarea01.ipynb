{
 "cells": [
  {
   "cell_type": "code",
   "execution_count": 172,
   "id": "eccd6f58-77ff-48dc-94f4-5cfaffdd0ba8",
   "metadata": {},
   "outputs": [],
   "source": [
    "P.<alpha0, alpha1, beta0, beta1> = QQ[]"
   ]
  },
  {
   "cell_type": "code",
   "execution_count": 173,
   "id": "904068dd-2d31-4bfb-befc-f7a70ef0d8d3",
   "metadata": {},
   "outputs": [],
   "source": [
    "A = matrix(QQ,[[1,1/2,0,2,1,2],[0,0,1,3,-1,0]])"
   ]
  },
  {
   "cell_type": "code",
   "execution_count": 174,
   "id": "a264b6df-4b16-421b-85bd-70d7392d30d5",
   "metadata": {},
   "outputs": [],
   "source": [
    "B = matrix(P, [ [alpha0, beta0], [alpha1, beta1] ])"
   ]
  },
  {
   "cell_type": "code",
   "execution_count": 175,
   "id": "943a3b72-8359-4387-9d2f-6d0124abee7c",
   "metadata": {},
   "outputs": [],
   "source": [
    "M = matrix(P, 4, 6)"
   ]
  },
  {
   "cell_type": "code",
   "execution_count": 176,
   "id": "d9fce68a-166b-4eb2-a910-4116649e1aa9",
   "metadata": {},
   "outputs": [],
   "source": [
    "M[:2,:] = A"
   ]
  },
  {
   "cell_type": "code",
   "execution_count": 177,
   "id": "8f785f96-6faf-4ab5-aa3f-6a2697e7a30e",
   "metadata": {},
   "outputs": [],
   "source": [
    "M[2, 1] = 1\n",
    "M[3, 3] = 1"
   ]
  },
  {
   "cell_type": "code",
   "execution_count": 178,
   "id": "635f3554-38ad-4528-aaff-e560eefc13ed",
   "metadata": {},
   "outputs": [],
   "source": [
    "M[2:4, 4:6] = B"
   ]
  },
  {
   "cell_type": "code",
   "execution_count": 179,
   "id": "6dcd7572-81ca-48d3-bd27-5fb82dc7d8ca",
   "metadata": {},
   "outputs": [],
   "source": [
    "M.subdivide(2, 4)"
   ]
  },
  {
   "cell_type": "code",
   "execution_count": 180,
   "id": "70ca4db9-fbac-42ff-bac8-827b0533275d",
   "metadata": {},
   "outputs": [
    {
     "data": {
      "text/html": [
       "<html>\\(\\displaystyle \\left(\\begin{array}{rrrr|rr}\n",
       "1 & \\frac{1}{2} & 0 & 2 & 1 & 2 \\\\\n",
       "0 & 0 & 1 & 3 & -1 & 0 \\\\\n",
       "\\hline\n",
       " 0 & 1 & 0 & 0 & \\alpha_{0} & \\beta_{0} \\\\\n",
       "0 & 0 & 0 & 1 & \\alpha_{1} & \\beta_{1}\n",
       "\\end{array}\\right)\\)</html>"
      ],
      "text/latex": [
       "$\\displaystyle \\left(\\begin{array}{rrrr|rr}\n",
       "1 & \\frac{1}{2} & 0 & 2 & 1 & 2 \\\\\n",
       "0 & 0 & 1 & 3 & -1 & 0 \\\\\n",
       "\\hline\n",
       " 0 & 1 & 0 & 0 & \\alpha_{0} & \\beta_{0} \\\\\n",
       "0 & 0 & 0 & 1 & \\alpha_{1} & \\beta_{1}\n",
       "\\end{array}\\right)$"
      ],
      "text/plain": [
       "[     1    1/2      0      2|     1      2]\n",
       "[     0      0      1      3|    -1      0]\n",
       "[---------------------------+-------------]\n",
       "[     0      1      0      0|alpha0  beta0]\n",
       "[     0      0      0      1|alpha1  beta1]"
      ]
     },
     "metadata": {},
     "output_type": "display_data"
    }
   ],
   "source": [
    "show(M)"
   ]
  },
  {
   "cell_type": "code",
   "execution_count": null,
   "id": "6d597f38-f53b-434a-9dd1-3fc89fec546b",
   "metadata": {},
   "outputs": [],
   "source": []
  }
 ],
 "metadata": {
  "kernelspec": {
   "display_name": "SageMath 10.4",
   "language": "sage",
   "name": "sagemath"
  },
  "language_info": {
   "codemirror_mode": {
    "name": "ipython",
    "version": 3
   },
   "file_extension": ".py",
   "mimetype": "text/x-python",
   "name": "python",
   "nbconvert_exporter": "python",
   "pygments_lexer": "ipython3",
   "version": "3.12.3"
  }
 },
 "nbformat": 4,
 "nbformat_minor": 5
}
