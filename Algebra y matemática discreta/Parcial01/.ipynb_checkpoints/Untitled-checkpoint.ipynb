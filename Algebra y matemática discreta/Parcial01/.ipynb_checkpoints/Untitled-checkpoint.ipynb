{
 "cells": [
  {
   "cell_type": "code",
   "execution_count": 1,
   "id": "fd0c0c35-a88c-4de1-8ae3-8bcade681a9f",
   "metadata": {},
   "outputs": [],
   "source": [
    "A = column_matrix(ZZ,[68,-20])\n",
    "M = block_matrix([[A,1]])\n",
    "R = copy(M.echelon_form())\n",
    "R.subdivide([],1)\n",
    "P = R.subdivision(0,1)"
   ]
  },
  {
   "cell_type": "code",
   "execution_count": 2,
   "id": "24d09c8c-6523-4888-86ba-2e4d35e04aa7",
   "metadata": {},
   "outputs": [
    {
     "data": {
      "text/html": [
       "<html>\\(\\displaystyle \\left(\\begin{array}{r}\n",
       "68 \\\\\n",
       "-20\n",
       "\\end{array}\\right) \\left(\\begin{array}{r|rr}\n",
       "68 & 1 & 0 \\\\\n",
       "-20 & 0 & 1\n",
       "\\end{array}\\right)\\)</html>"
      ],
      "text/latex": [
       "$\\displaystyle \\left(\\begin{array}{r}\n",
       "68 \\\\\n",
       "-20\n",
       "\\end{array}\\right) \\left(\\begin{array}{r|rr}\n",
       "68 & 1 & 0 \\\\\n",
       "-20 & 0 & 1\n",
       "\\end{array}\\right)$"
      ],
      "text/plain": [
       "[ 68]\n",
       "[-20] [ 68|  1   0]\n",
       "[-20|  0   1]"
      ]
     },
     "metadata": {},
     "output_type": "display_data"
    },
    {
     "data": {
      "text/html": [
       "<html>\\(\\displaystyle \\left(\\begin{array}{r|rr}\n",
       "4 & 3 & 10 \\\\\n",
       "0 & 5 & 17\n",
       "\\end{array}\\right)\\)</html>"
      ],
      "text/latex": [
       "$\\displaystyle \\left(\\begin{array}{r|rr}\n",
       "4 & 3 & 10 \\\\\n",
       "0 & 5 & 17\n",
       "\\end{array}\\right)$"
      ],
      "text/plain": [
       "[ 4| 3 10]\n",
       "[ 0| 5 17]"
      ]
     },
     "metadata": {},
     "output_type": "display_data"
    },
    {
     "data": {
      "text/html": [
       "<html>\\(\\displaystyle \\left(\\begin{array}{rr}\n",
       "3 & 10 \\\\\n",
       "5 & 17\n",
       "\\end{array}\\right)\\)</html>"
      ],
      "text/latex": [
       "$\\displaystyle \\left(\\begin{array}{rr}\n",
       "3 & 10 \\\\\n",
       "5 & 17\n",
       "\\end{array}\\right)$"
      ],
      "text/plain": [
       "[ 3 10]\n",
       "[ 5 17]"
      ]
     },
     "metadata": {},
     "output_type": "display_data"
    }
   ],
   "source": [
    "show(A, M)\n",
    "show(R)\n",
    "show(P)"
   ]
  },
  {
   "cell_type": "code",
   "execution_count": null,
   "id": "e7b03f0c-dc91-4869-ba7f-077c6edd009c",
   "metadata": {},
   "outputs": [],
   "source": []
  }
 ],
 "metadata": {
  "kernelspec": {
   "display_name": "SageMath 10.5.beta6",
   "language": "sage",
   "name": "sagemath"
  },
  "language_info": {
   "codemirror_mode": {
    "name": "ipython",
    "version": 3
   },
   "file_extension": ".py",
   "mimetype": "text/x-python",
   "name": "python",
   "nbconvert_exporter": "python",
   "pygments_lexer": "ipython3",
   "version": "3.12.5"
  },
  "widgets": {
   "application/vnd.jupyter.widget-state+json": {
    "state": {},
    "version_major": 2,
    "version_minor": 0
   }
  }
 },
 "nbformat": 4,
 "nbformat_minor": 5
}
