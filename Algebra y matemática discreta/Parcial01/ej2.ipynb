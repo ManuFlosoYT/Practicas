{
 "cells": [
  {
   "cell_type": "code",
   "execution_count": 1,
   "id": "f1b021d1-9260-49a3-a14b-083b20b6670b",
   "metadata": {},
   "outputs": [],
   "source": [
    "A = matrix(Zmod(19),[[1,8,14,0,18],[2,9,15,16,4]]).T\n",
    "H = matrix(Zmod(19),[[17,6,15,5,3],[13,6,12,4,0]])\n",
    "M = block_matrix([[H.T,1]])\n",
    "R = copy(M.echelon_form())\n",
    "R.subdivide(2,2)\n",
    "B = R.subdivision(1,1).T\n",
    "BA = block_matrix([[B,A]])\n",
    "MM = block_matrix([[BA,1]])\n",
    "RR = copy(MM.echelon_form())\n",
    "RR.subdivide(4,5)\n",
    "HH = RR.subdivision(1,1)"
   ]
  },
  {
   "cell_type": "code",
   "execution_count": 3,
   "id": "ede7b130-736a-4074-8348-5d4c876c4f6b",
   "metadata": {},
   "outputs": [
    {
     "data": {
      "text/html": [
       "<html>\\(\\displaystyle \\left(\\begin{array}{rr}\n",
       "1 & 2 \\\\\n",
       "8 & 9 \\\\\n",
       "14 & 15 \\\\\n",
       "0 & 16 \\\\\n",
       "18 & 4\n",
       "\\end{array}\\right)\\)</html>"
      ],
      "text/latex": [
       "$\\displaystyle \\left(\\begin{array}{rr}\n",
       "1 & 2 \\\\\n",
       "8 & 9 \\\\\n",
       "14 & 15 \\\\\n",
       "0 & 16 \\\\\n",
       "18 & 4\n",
       "\\end{array}\\right)$"
      ],
      "text/plain": [
       "[ 1  2]\n",
       "[ 8  9]\n",
       "[14 15]\n",
       "[ 0 16]\n",
       "[18  4]"
      ]
     },
     "metadata": {},
     "output_type": "display_data"
    },
    {
     "data": {
      "text/html": [
       "<html>\\(\\displaystyle \\left(\\begin{array}{rrrrr}\n",
       "17 & 6 & 15 & 5 & 3 \\\\\n",
       "13 & 6 & 12 & 4 & 0\n",
       "\\end{array}\\right)\\)</html>"
      ],
      "text/latex": [
       "$\\displaystyle \\left(\\begin{array}{rrrrr}\n",
       "17 & 6 & 15 & 5 & 3 \\\\\n",
       "13 & 6 & 12 & 4 & 0\n",
       "\\end{array}\\right)$"
      ],
      "text/plain": [
       "[17  6 15  5  3]\n",
       "[13  6 12  4  0]"
      ]
     },
     "metadata": {},
     "output_type": "display_data"
    },
    {
     "data": {
      "text/html": [
       "<html>\\(\\displaystyle \\left(\\begin{array}{rr|rrrrr}\n",
       "17 & 13 & 1 & 0 & 0 & 0 & 0 \\\\\n",
       "6 & 6 & 0 & 1 & 0 & 0 & 0 \\\\\n",
       "15 & 12 & 0 & 0 & 1 & 0 & 0 \\\\\n",
       "5 & 4 & 0 & 0 & 0 & 1 & 0 \\\\\n",
       "3 & 0 & 0 & 0 & 0 & 0 & 1\n",
       "\\end{array}\\right) \\left(\\begin{array}{rr|rrrrr}\n",
       "1 & 0 & 0 & 0 & 0 & 0 & 13 \\\\\n",
       "0 & 1 & 0 & 0 & 0 & 5 & 17 \\\\\n",
       "\\hline\n",
       " 0 & 0 & 1 & 0 & 0 & 11 & 14 \\\\\n",
       "0 & 0 & 0 & 1 & 0 & 8 & 10 \\\\\n",
       "0 & 0 & 0 & 0 & 1 & 16 & 0\n",
       "\\end{array}\\right)\\)</html>"
      ],
      "text/latex": [
       "$\\displaystyle \\left(\\begin{array}{rr|rrrrr}\n",
       "17 & 13 & 1 & 0 & 0 & 0 & 0 \\\\\n",
       "6 & 6 & 0 & 1 & 0 & 0 & 0 \\\\\n",
       "15 & 12 & 0 & 0 & 1 & 0 & 0 \\\\\n",
       "5 & 4 & 0 & 0 & 0 & 1 & 0 \\\\\n",
       "3 & 0 & 0 & 0 & 0 & 0 & 1\n",
       "\\end{array}\\right) \\left(\\begin{array}{rr|rrrrr}\n",
       "1 & 0 & 0 & 0 & 0 & 0 & 13 \\\\\n",
       "0 & 1 & 0 & 0 & 0 & 5 & 17 \\\\\n",
       "\\hline\n",
       " 0 & 0 & 1 & 0 & 0 & 11 & 14 \\\\\n",
       "0 & 0 & 0 & 1 & 0 & 8 & 10 \\\\\n",
       "0 & 0 & 0 & 0 & 1 & 16 & 0\n",
       "\\end{array}\\right)$"
      ],
      "text/plain": [
       "[17 13| 1  0  0  0  0]\n",
       "[ 6  6| 0  1  0  0  0]\n",
       "[15 12| 0  0  1  0  0]\n",
       "[ 5  4| 0  0  0  1  0]\n",
       "[ 3  0| 0  0  0  0  1] [ 1  0| 0  0  0  0 13]\n",
       "[ 0  1| 0  0  0  5 17]\n",
       "[-----+--------------]\n",
       "[ 0  0| 1  0  0 11 14]\n",
       "[ 0  0| 0  1  0  8 10]\n",
       "[ 0  0| 0  0  1 16  0]"
      ]
     },
     "metadata": {},
     "output_type": "display_data"
    },
    {
     "data": {
      "text/html": [
       "<html>\\(\\displaystyle \\left(\\begin{array}{rrr}\n",
       "1 & 0 & 0 \\\\\n",
       "0 & 1 & 0 \\\\\n",
       "0 & 0 & 1 \\\\\n",
       "11 & 8 & 16 \\\\\n",
       "14 & 10 & 0\n",
       "\\end{array}\\right)\\)</html>"
      ],
      "text/latex": [
       "$\\displaystyle \\left(\\begin{array}{rrr}\n",
       "1 & 0 & 0 \\\\\n",
       "0 & 1 & 0 \\\\\n",
       "0 & 0 & 1 \\\\\n",
       "11 & 8 & 16 \\\\\n",
       "14 & 10 & 0\n",
       "\\end{array}\\right)$"
      ],
      "text/plain": [
       "[ 1  0  0]\n",
       "[ 0  1  0]\n",
       "[ 0  0  1]\n",
       "[11  8 16]\n",
       "[14 10  0]"
      ]
     },
     "metadata": {},
     "output_type": "display_data"
    },
    {
     "data": {
      "text/html": [
       "<html>\\(\\displaystyle \\left(\\begin{array}{rrr|rr}\n",
       "1 & 0 & 0 & 1 & 2 \\\\\n",
       "0 & 1 & 0 & 8 & 9 \\\\\n",
       "0 & 0 & 1 & 14 & 15 \\\\\n",
       "11 & 8 & 16 & 0 & 16 \\\\\n",
       "14 & 10 & 0 & 18 & 4\n",
       "\\end{array}\\right)\\)</html>"
      ],
      "text/latex": [
       "$\\displaystyle \\left(\\begin{array}{rrr|rr}\n",
       "1 & 0 & 0 & 1 & 2 \\\\\n",
       "0 & 1 & 0 & 8 & 9 \\\\\n",
       "0 & 0 & 1 & 14 & 15 \\\\\n",
       "11 & 8 & 16 & 0 & 16 \\\\\n",
       "14 & 10 & 0 & 18 & 4\n",
       "\\end{array}\\right)$"
      ],
      "text/plain": [
       "[ 1  0  0| 1  2]\n",
       "[ 0  1  0| 8  9]\n",
       "[ 0  0  1|14 15]\n",
       "[11  8 16| 0 16]\n",
       "[14 10  0|18  4]"
      ]
     },
     "metadata": {},
     "output_type": "display_data"
    },
    {
     "data": {
      "text/html": [
       "<html>\\(\\displaystyle \\left(\\begin{array}{rrrrr|rrrrr}\n",
       "1 & 0 & 0 & 1 & 2 & 1 & 0 & 0 & 0 & 0 \\\\\n",
       "0 & 1 & 0 & 8 & 9 & 0 & 1 & 0 & 0 & 0 \\\\\n",
       "0 & 0 & 1 & 14 & 15 & 0 & 0 & 1 & 0 & 0 \\\\\n",
       "11 & 8 & 16 & 0 & 16 & 0 & 0 & 0 & 1 & 0 \\\\\n",
       "14 & 10 & 0 & 18 & 4 & 0 & 0 & 0 & 0 & 1\n",
       "\\end{array}\\right) \\left(\\begin{array}{rrrrr|rrrrr}\n",
       "1 & 0 & 0 & 0 & 1 & 0 & 8 & 7 & 15 & 10 \\\\\n",
       "0 & 1 & 0 & 0 & 1 & 0 & 11 & 18 & 6 & 17 \\\\\n",
       "0 & 0 & 1 & 0 & 1 & 0 & 8 & 4 & 1 & 6 \\\\\n",
       "0 & 0 & 0 & 1 & 1 & 0 & 13 & 12 & 4 & 5 \\\\\n",
       "\\hline\n",
       " 0 & 0 & 0 & 0 & 0 & 1 & 17 & 0 & 0 & 4\n",
       "\\end{array}\\right)\\)</html>"
      ],
      "text/latex": [
       "$\\displaystyle \\left(\\begin{array}{rrrrr|rrrrr}\n",
       "1 & 0 & 0 & 1 & 2 & 1 & 0 & 0 & 0 & 0 \\\\\n",
       "0 & 1 & 0 & 8 & 9 & 0 & 1 & 0 & 0 & 0 \\\\\n",
       "0 & 0 & 1 & 14 & 15 & 0 & 0 & 1 & 0 & 0 \\\\\n",
       "11 & 8 & 16 & 0 & 16 & 0 & 0 & 0 & 1 & 0 \\\\\n",
       "14 & 10 & 0 & 18 & 4 & 0 & 0 & 0 & 0 & 1\n",
       "\\end{array}\\right) \\left(\\begin{array}{rrrrr|rrrrr}\n",
       "1 & 0 & 0 & 0 & 1 & 0 & 8 & 7 & 15 & 10 \\\\\n",
       "0 & 1 & 0 & 0 & 1 & 0 & 11 & 18 & 6 & 17 \\\\\n",
       "0 & 0 & 1 & 0 & 1 & 0 & 8 & 4 & 1 & 6 \\\\\n",
       "0 & 0 & 0 & 1 & 1 & 0 & 13 & 12 & 4 & 5 \\\\\n",
       "\\hline\n",
       " 0 & 0 & 0 & 0 & 0 & 1 & 17 & 0 & 0 & 4\n",
       "\\end{array}\\right)$"
      ],
      "text/plain": [
       "[ 1  0  0  1  2| 1  0  0  0  0]\n",
       "[ 0  1  0  8  9| 0  1  0  0  0]\n",
       "[ 0  0  1 14 15| 0  0  1  0  0]\n",
       "[11  8 16  0 16| 0  0  0  1  0]\n",
       "[14 10  0 18  4| 0  0  0  0  1] [ 1  0  0  0  1| 0  8  7 15 10]\n",
       "[ 0  1  0  0  1| 0 11 18  6 17]\n",
       "[ 0  0  1  0  1| 0  8  4  1  6]\n",
       "[ 0  0  0  1  1| 0 13 12  4  5]\n",
       "[--------------+--------------]\n",
       "[ 0  0  0  0  0| 1 17  0  0  4]"
      ]
     },
     "metadata": {},
     "output_type": "display_data"
    },
    {
     "data": {
      "text/html": [
       "<html>\\(\\displaystyle \\left(\\begin{array}{rrrrr}\n",
       "1 & 17 & 0 & 0 & 4\n",
       "\\end{array}\\right)\\)</html>"
      ],
      "text/latex": [
       "$\\displaystyle \\left(\\begin{array}{rrrrr}\n",
       "1 & 17 & 0 & 0 & 4\n",
       "\\end{array}\\right)$"
      ],
      "text/plain": [
       "[ 1 17  0  0  4]"
      ]
     },
     "metadata": {},
     "output_type": "display_data"
    }
   ],
   "source": [
    "show(A)\n",
    "show(H)\n",
    "show(M, R)\n",
    "show(B)\n",
    "show(BA)\n",
    "show(MM, RR)\n",
    "show(HH)"
   ]
  },
  {
   "cell_type": "code",
   "execution_count": null,
   "id": "3436f5b3-abe5-42be-9392-7bd003670f59",
   "metadata": {},
   "outputs": [],
   "source": []
  }
 ],
 "metadata": {
  "kernelspec": {
   "display_name": "SageMath 10.5.beta6",
   "language": "sage",
   "name": "sagemath"
  },
  "language_info": {
   "codemirror_mode": {
    "name": "ipython",
    "version": 3
   },
   "file_extension": ".py",
   "mimetype": "text/x-python",
   "name": "python",
   "nbconvert_exporter": "python",
   "pygments_lexer": "ipython3",
   "version": "3.12.5"
  },
  "widgets": {
   "application/vnd.jupyter.widget-state+json": {
    "state": {},
    "version_major": 2,
    "version_minor": 0
   }
  }
 },
 "nbformat": 4,
 "nbformat_minor": 5
}
