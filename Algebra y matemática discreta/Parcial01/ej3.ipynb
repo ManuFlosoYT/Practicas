{
 "cells": [
  {
   "cell_type": "code",
   "execution_count": 1,
   "id": "02859c0e-13d9-4da1-b4a6-f0cca40429fb",
   "metadata": {},
   "outputs": [],
   "source": [
    "A = matrix(Zmod(5),[[2, 4, 1, 4, 1],\n",
    "[4, 1, 1, 4, 1],\n",
    "[1, 4, 0, 4, 1],\n",
    "[3, 3, 1, 3, 2]])\n",
    "B = matrix(Zmod(5),[[4,0],[0,4],[4,1],[3,1]])\n",
    "AB = block_matrix([[A,B]])\n",
    "R = AB.echelon_form()\n",
    "R1 = R[:3,:]\n",
    "R1.subdivide([],5)\n",
    "Pivotes = matrix(Zmod(5),[[0,0,0,1,0],[0,0,0,0,1]])\n",
    "Pol2.<a,b,c,d> = PolynomialRing(Zmod(5))\n",
    "Parametros = matrix(Pol2,[[a,b],[c,d]])\n",
    "R2 = block_matrix([[R1],[block_matrix([[Pivotes,Parametros]])]])\n",
    "R2.subdivide(3,5)\n",
    "R3 = R2.echelon_form()"
   ]
  },
  {
   "cell_type": "code",
   "execution_count": 2,
   "id": "2b86f072-ef9d-46bf-a256-ee4e8fb0c6f8",
   "metadata": {},
   "outputs": [
    {
     "data": {
      "text/html": [
       "<html>\\(\\displaystyle \\left(\\begin{array}{rrrrr}\n",
       "2 & 4 & 1 & 4 & 1 \\\\\n",
       "4 & 1 & 1 & 4 & 1 \\\\\n",
       "1 & 4 & 0 & 4 & 1 \\\\\n",
       "3 & 3 & 1 & 3 & 2\n",
       "\\end{array}\\right)\\)</html>"
      ],
      "text/latex": [
       "$\\displaystyle \\left(\\begin{array}{rrrrr}\n",
       "2 & 4 & 1 & 4 & 1 \\\\\n",
       "4 & 1 & 1 & 4 & 1 \\\\\n",
       "1 & 4 & 0 & 4 & 1 \\\\\n",
       "3 & 3 & 1 & 3 & 2\n",
       "\\end{array}\\right)$"
      ],
      "text/plain": [
       "[2 4 1 4 1]\n",
       "[4 1 1 4 1]\n",
       "[1 4 0 4 1]\n",
       "[3 3 1 3 2]"
      ]
     },
     "metadata": {},
     "output_type": "display_data"
    },
    {
     "data": {
      "text/html": [
       "<html>\\(\\displaystyle \\left(\\begin{array}{rr}\n",
       "4 & 0 \\\\\n",
       "0 & 4 \\\\\n",
       "4 & 1 \\\\\n",
       "3 & 1\n",
       "\\end{array}\\right)\\)</html>"
      ],
      "text/latex": [
       "$\\displaystyle \\left(\\begin{array}{rr}\n",
       "4 & 0 \\\\\n",
       "0 & 4 \\\\\n",
       "4 & 1 \\\\\n",
       "3 & 1\n",
       "\\end{array}\\right)$"
      ],
      "text/plain": [
       "[4 0]\n",
       "[0 4]\n",
       "[4 1]\n",
       "[3 1]"
      ]
     },
     "metadata": {},
     "output_type": "display_data"
    },
    {
     "data": {
      "text/html": [
       "<html>\\(\\displaystyle \\left(\\begin{array}{rrrrr|rr}\n",
       "2 & 4 & 1 & 4 & 1 & 4 & 0 \\\\\n",
       "4 & 1 & 1 & 4 & 1 & 0 & 4 \\\\\n",
       "1 & 4 & 0 & 4 & 1 & 4 & 1 \\\\\n",
       "3 & 3 & 1 & 3 & 2 & 3 & 1\n",
       "\\end{array}\\right) \\left(\\begin{array}{rrrrr|rr}\n",
       "1 & 0 & 0 & 2 & 3 & 1 & 4 \\\\\n",
       "0 & 1 & 0 & 3 & 2 & 2 & 3 \\\\\n",
       "0 & 0 & 1 & 3 & 2 & 4 & 0 \\\\\n",
       "0 & 0 & 0 & 0 & 0 & 0 & 0\n",
       "\\end{array}\\right)\\)</html>"
      ],
      "text/latex": [
       "$\\displaystyle \\left(\\begin{array}{rrrrr|rr}\n",
       "2 & 4 & 1 & 4 & 1 & 4 & 0 \\\\\n",
       "4 & 1 & 1 & 4 & 1 & 0 & 4 \\\\\n",
       "1 & 4 & 0 & 4 & 1 & 4 & 1 \\\\\n",
       "3 & 3 & 1 & 3 & 2 & 3 & 1\n",
       "\\end{array}\\right) \\left(\\begin{array}{rrrrr|rr}\n",
       "1 & 0 & 0 & 2 & 3 & 1 & 4 \\\\\n",
       "0 & 1 & 0 & 3 & 2 & 2 & 3 \\\\\n",
       "0 & 0 & 1 & 3 & 2 & 4 & 0 \\\\\n",
       "0 & 0 & 0 & 0 & 0 & 0 & 0\n",
       "\\end{array}\\right)$"
      ],
      "text/plain": [
       "[2 4 1 4 1|4 0]\n",
       "[4 1 1 4 1|0 4]\n",
       "[1 4 0 4 1|4 1]\n",
       "[3 3 1 3 2|3 1] [1 0 0 2 3|1 4]\n",
       "[0 1 0 3 2|2 3]\n",
       "[0 0 1 3 2|4 0]\n",
       "[0 0 0 0 0|0 0]"
      ]
     },
     "metadata": {},
     "output_type": "display_data"
    },
    {
     "data": {
      "text/html": [
       "<html>\\(\\displaystyle \\left(\\begin{array}{rrrrr|rr}\n",
       "1 & 0 & 0 & 2 & 3 & 1 & 4 \\\\\n",
       "0 & 1 & 0 & 3 & 2 & 2 & 3 \\\\\n",
       "0 & 0 & 1 & 3 & 2 & 4 & 0\n",
       "\\end{array}\\right)\\)</html>"
      ],
      "text/latex": [
       "$\\displaystyle \\left(\\begin{array}{rrrrr|rr}\n",
       "1 & 0 & 0 & 2 & 3 & 1 & 4 \\\\\n",
       "0 & 1 & 0 & 3 & 2 & 2 & 3 \\\\\n",
       "0 & 0 & 1 & 3 & 2 & 4 & 0\n",
       "\\end{array}\\right)$"
      ],
      "text/plain": [
       "[1 0 0 2 3|1 4]\n",
       "[0 1 0 3 2|2 3]\n",
       "[0 0 1 3 2|4 0]"
      ]
     },
     "metadata": {},
     "output_type": "display_data"
    },
    {
     "data": {
      "text/html": [
       "<html>\\(\\displaystyle \\left(\\begin{array}{rrrrr}\n",
       "0 & 0 & 0 & 1 & 0 \\\\\n",
       "0 & 0 & 0 & 0 & 1\n",
       "\\end{array}\\right)\\)</html>"
      ],
      "text/latex": [
       "$\\displaystyle \\left(\\begin{array}{rrrrr}\n",
       "0 & 0 & 0 & 1 & 0 \\\\\n",
       "0 & 0 & 0 & 0 & 1\n",
       "\\end{array}\\right)$"
      ],
      "text/plain": [
       "[0 0 0 1 0]\n",
       "[0 0 0 0 1]"
      ]
     },
     "metadata": {},
     "output_type": "display_data"
    },
    {
     "data": {
      "text/html": [
       "<html>\\(\\displaystyle \\left(\\begin{array}{rr}\n",
       "a & b \\\\\n",
       "c & d\n",
       "\\end{array}\\right)\\)</html>"
      ],
      "text/latex": [
       "$\\displaystyle \\left(\\begin{array}{rr}\n",
       "a & b \\\\\n",
       "c & d\n",
       "\\end{array}\\right)$"
      ],
      "text/plain": [
       "[a b]\n",
       "[c d]"
      ]
     },
     "metadata": {},
     "output_type": "display_data"
    },
    {
     "data": {
      "text/html": [
       "<html>\\(\\displaystyle \\left(\\begin{array}{rrrrr|rr}\n",
       "1 & 0 & 0 & 2 & 3 & 1 & 4 \\\\\n",
       "0 & 1 & 0 & 3 & 2 & 2 & 3 \\\\\n",
       "0 & 0 & 1 & 3 & 2 & 4 & 0 \\\\\n",
       "\\hline\n",
       " 0 & 0 & 0 & 1 & 0 & a & b \\\\\n",
       "0 & 0 & 0 & 0 & 1 & c & d\n",
       "\\end{array}\\right) \\left(\\begin{array}{rrrrr|rr}\n",
       "1 & 0 & 0 & 0 & 0 & 3 a + 2 c + 1 & 3 b + 2 d + 4 \\\\\n",
       "0 & 1 & 0 & 0 & 0 & 2 a + 3 c + 2 & 2 b + 3 d + 3 \\\\\n",
       "0 & 0 & 1 & 0 & 0 & 2 a + 3 c + 4 & 2 b + 3 d \\\\\n",
       "\\hline\n",
       " 0 & 0 & 0 & 1 & 0 & a & b \\\\\n",
       "0 & 0 & 0 & 0 & 1 & c & d\n",
       "\\end{array}\\right)\\)</html>"
      ],
      "text/latex": [
       "$\\displaystyle \\left(\\begin{array}{rrrrr|rr}\n",
       "1 & 0 & 0 & 2 & 3 & 1 & 4 \\\\\n",
       "0 & 1 & 0 & 3 & 2 & 2 & 3 \\\\\n",
       "0 & 0 & 1 & 3 & 2 & 4 & 0 \\\\\n",
       "\\hline\n",
       " 0 & 0 & 0 & 1 & 0 & a & b \\\\\n",
       "0 & 0 & 0 & 0 & 1 & c & d\n",
       "\\end{array}\\right) \\left(\\begin{array}{rrrrr|rr}\n",
       "1 & 0 & 0 & 0 & 0 & 3 a + 2 c + 1 & 3 b + 2 d + 4 \\\\\n",
       "0 & 1 & 0 & 0 & 0 & 2 a + 3 c + 2 & 2 b + 3 d + 3 \\\\\n",
       "0 & 0 & 1 & 0 & 0 & 2 a + 3 c + 4 & 2 b + 3 d \\\\\n",
       "\\hline\n",
       " 0 & 0 & 0 & 1 & 0 & a & b \\\\\n",
       "0 & 0 & 0 & 0 & 1 & c & d\n",
       "\\end{array}\\right)$"
      ],
      "text/plain": [
       "[1 0 0 2 3|1 4]\n",
       "[0 1 0 3 2|2 3]\n",
       "[0 0 1 3 2|4 0]\n",
       "[---------+---]\n",
       "[0 0 0 1 0|a b]\n",
       "[0 0 0 0 1|c d] [            1             0             0             0             0|3*a + 2*c + 1 3*b + 2*d + 4]\n",
       "[            0             1             0             0             0|2*a + 3*c + 2 2*b + 3*d + 3]\n",
       "[            0             0             1             0             0|2*a + 3*c + 4     2*b + 3*d]\n",
       "[---------------------------------------------------------------------+---------------------------]\n",
       "[            0             0             0             1             0|            a             b]\n",
       "[            0             0             0             0             1|            c             d]"
      ]
     },
     "metadata": {},
     "output_type": "display_data"
    }
   ],
   "source": [
    "show(A)\n",
    "show(B)\n",
    "show(AB, R)\n",
    "show(R1)\n",
    "show(Pivotes)\n",
    "show(Parametros)\n",
    "show(R2, R3)"
   ]
  },
  {
   "cell_type": "code",
   "execution_count": null,
   "id": "80537210-9764-41ab-8691-273dc9ae009e",
   "metadata": {},
   "outputs": [],
   "source": []
  }
 ],
 "metadata": {
  "kernelspec": {
   "display_name": "SageMath 10.5.beta6",
   "language": "sage",
   "name": "sagemath"
  },
  "language_info": {
   "codemirror_mode": {
    "name": "ipython",
    "version": 3
   },
   "file_extension": ".py",
   "mimetype": "text/x-python",
   "name": "python",
   "nbconvert_exporter": "python",
   "pygments_lexer": "ipython3",
   "version": "3.12.5"
  },
  "widgets": {
   "application/vnd.jupyter.widget-state+json": {
    "state": {},
    "version_major": 2,
    "version_minor": 0
   }
  }
 },
 "nbformat": 4,
 "nbformat_minor": 5
}
