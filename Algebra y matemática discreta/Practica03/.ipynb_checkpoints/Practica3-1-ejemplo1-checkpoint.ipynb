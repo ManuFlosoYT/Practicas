{
 "cells": [
  {
   "cell_type": "code",
   "execution_count": 1,
   "id": "2c535fb6-efb1-48ff-99be-5c0a10122029",
   "metadata": {},
   "outputs": [],
   "source": [
    "A = matrix(ZZ,[35,25])\n",
    "At1 = block_matrix([[A.T,1]])\n",
    "At1R = At1.echelon_form()\n",
    "Q = At1R[:,1:].T"
   ]
  },
  {
   "cell_type": "code",
   "execution_count": 3,
   "id": "029d9223-c0d8-47fd-ae82-3e6bb963ba4f",
   "metadata": {},
   "outputs": [
    {
     "data": {
      "text/html": [
       "<html>\\(\\displaystyle \\left(\\begin{array}{rr}\n",
       "35 & 25\n",
       "\\end{array}\\right)\\)</html>"
      ],
      "text/latex": [
       "$\\displaystyle \\left(\\begin{array}{rr}\n",
       "35 & 25\n",
       "\\end{array}\\right)$"
      ],
      "text/plain": [
       "[35 25]"
      ]
     },
     "metadata": {},
     "output_type": "display_data"
    },
    {
     "data": {
      "text/html": [
       "<html>\\(\\displaystyle \\left(\\begin{array}{r|rr}\n",
       "35 & 1 & 0 \\\\\n",
       "25 & 0 & 1\n",
       "\\end{array}\\right)\\)</html>"
      ],
      "text/latex": [
       "$\\displaystyle \\left(\\begin{array}{r|rr}\n",
       "35 & 1 & 0 \\\\\n",
       "25 & 0 & 1\n",
       "\\end{array}\\right)$"
      ],
      "text/plain": [
       "[35| 1  0]\n",
       "[25| 0  1]"
      ]
     },
     "metadata": {},
     "output_type": "display_data"
    },
    {
     "data": {
      "text/html": [
       "<html>\\(\\displaystyle \\left(\\begin{array}{rrr}\n",
       "5 & 3 & -4 \\\\\n",
       "0 & 5 & -7\n",
       "\\end{array}\\right)\\)</html>"
      ],
      "text/latex": [
       "$\\displaystyle \\left(\\begin{array}{rrr}\n",
       "5 & 3 & -4 \\\\\n",
       "0 & 5 & -7\n",
       "\\end{array}\\right)$"
      ],
      "text/plain": [
       "[ 5  3 -4]\n",
       "[ 0  5 -7]"
      ]
     },
     "metadata": {},
     "output_type": "display_data"
    },
    {
     "data": {
      "text/html": [
       "<html>\\(\\displaystyle \\left(\\begin{array}{rr}\n",
       "3 & 5 \\\\\n",
       "-4 & -7\n",
       "\\end{array}\\right)\\)</html>"
      ],
      "text/latex": [
       "$\\displaystyle \\left(\\begin{array}{rr}\n",
       "3 & 5 \\\\\n",
       "-4 & -7\n",
       "\\end{array}\\right)$"
      ],
      "text/plain": [
       "[ 3  5]\n",
       "[-4 -7]"
      ]
     },
     "metadata": {},
     "output_type": "display_data"
    }
   ],
   "source": [
    "show(A)\n",
    "show(At1)\n",
    "show(At1R)\n",
    "show(Q)"
   ]
  },
  {
   "cell_type": "code",
   "execution_count": null,
   "id": "f7adff0e-1fc8-4b9e-9fbd-45a559d019cc",
   "metadata": {},
   "outputs": [],
   "source": []
  }
 ],
 "metadata": {
  "kernelspec": {
   "display_name": "SageMath 10.4",
   "language": "sage",
   "name": "sagemath"
  },
  "language_info": {
   "codemirror_mode": {
    "name": "ipython",
    "version": 3
   },
   "file_extension": ".py",
   "mimetype": "text/x-python",
   "name": "python",
   "nbconvert_exporter": "python",
   "pygments_lexer": "ipython3",
   "version": "3.12.3"
  }
 },
 "nbformat": 4,
 "nbformat_minor": 5
}
